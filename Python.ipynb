{
  "nbformat": 4,
  "nbformat_minor": 0,
  "metadata": {
    "colab": {
      "provenance": [],
      "include_colab_link": true
    },
    "kernelspec": {
      "name": "python3",
      "display_name": "Python 3"
    },
    "language_info": {
      "name": "python"
    }
  },
  "cells": [
    {
      "cell_type": "markdown",
      "metadata": {
        "id": "view-in-github",
        "colab_type": "text"
      },
      "source": [
        "<a href=\"https://colab.research.google.com/github/mukulbawane/Python_1/blob/main/Python.ipynb\" target=\"_parent\"><img src=\"https://colab.research.google.com/assets/colab-badge.svg\" alt=\"Open In Colab\"/></a>"
      ]
    },
    {
      "cell_type": "code",
      "execution_count": null,
      "metadata": {
        "colab": {
          "base_uri": "https://localhost:8080/"
        },
        "id": "CBVriDrFy-zF",
        "outputId": "bb4d7da9-1dd8-4788-83e0-395822823002"
      },
      "outputs": [
        {
          "output_type": "stream",
          "name": "stdout",
          "text": [
            "3\n"
          ]
        }
      ],
      "source": [
        "print(1+2) #shift + enter"
      ]
    },
    {
      "cell_type": "code",
      "source": [
        "print(4-2)"
      ],
      "metadata": {
        "colab": {
          "base_uri": "https://localhost:8080/"
        },
        "id": "hOtW2yrgzyP8",
        "outputId": "dd8135ee-5601-4147-b5c8-3b67696ce361"
      },
      "execution_count": null,
      "outputs": [
        {
          "output_type": "stream",
          "name": "stdout",
          "text": [
            "2\n"
          ]
        }
      ]
    },
    {
      "cell_type": "code",
      "source": [
        "print(4*2)"
      ],
      "metadata": {
        "colab": {
          "base_uri": "https://localhost:8080/"
        },
        "id": "FCzThDyA0Gik",
        "outputId": "ec0ad3e5-a797-4189-dbda-7ad9cea402e9"
      },
      "execution_count": null,
      "outputs": [
        {
          "output_type": "stream",
          "name": "stdout",
          "text": [
            "8\n"
          ]
        }
      ]
    },
    {
      "cell_type": "code",
      "source": [
        "print(9/3)"
      ],
      "metadata": {
        "colab": {
          "base_uri": "https://localhost:8080/"
        },
        "id": "52uHlpqJ0LLE",
        "outputId": "feff2aa8-3497-47f6-fe39-43c2bfbdda17"
      },
      "execution_count": null,
      "outputs": [
        {
          "output_type": "stream",
          "name": "stdout",
          "text": [
            "3.0\n"
          ]
        }
      ]
    },
    {
      "cell_type": "code",
      "source": [
        "print(\"Hello, I am Ekta\")"
      ],
      "metadata": {
        "colab": {
          "base_uri": "https://localhost:8080/"
        },
        "id": "K9g4bmdU0PP3",
        "outputId": "b9784bfb-e563-4d51-d50c-f7002656321c"
      },
      "execution_count": null,
      "outputs": [
        {
          "output_type": "stream",
          "name": "stdout",
          "text": [
            "Hello, I am Ekta\n"
          ]
        }
      ]
    },
    {
      "cell_type": "code",
      "source": [
        "print('Hello, I am Ekta')"
      ],
      "metadata": {
        "colab": {
          "base_uri": "https://localhost:8080/"
        },
        "id": "jDwRKpNH0aZg",
        "outputId": "5222c113-74cf-41f1-f81f-1a2253bfebd9"
      },
      "execution_count": null,
      "outputs": [
        {
          "output_type": "stream",
          "name": "stdout",
          "text": [
            "Hello, I am Ekta\n"
          ]
        }
      ]
    },
    {
      "cell_type": "code",
      "source": [
        "Print(\"Hello\")"
      ],
      "metadata": {
        "colab": {
          "base_uri": "https://localhost:8080/",
          "height": 141
        },
        "id": "mPBWCRqi0lru",
        "outputId": "880e3266-cbe6-46b6-e931-b6c46bf7ba69"
      },
      "execution_count": null,
      "outputs": [
        {
          "output_type": "error",
          "ename": "NameError",
          "evalue": "name 'Print' is not defined",
          "traceback": [
            "\u001b[0;31m---------------------------------------------------------------------------\u001b[0m",
            "\u001b[0;31mNameError\u001b[0m                                 Traceback (most recent call last)",
            "\u001b[0;32m<ipython-input-7-b39576d35bb3>\u001b[0m in \u001b[0;36m<cell line: 1>\u001b[0;34m()\u001b[0m\n\u001b[0;32m----> 1\u001b[0;31m \u001b[0mPrint\u001b[0m\u001b[0;34m(\u001b[0m\u001b[0;34m\"Hello\"\u001b[0m\u001b[0;34m)\u001b[0m\u001b[0;34m\u001b[0m\u001b[0;34m\u001b[0m\u001b[0m\n\u001b[0m",
            "\u001b[0;31mNameError\u001b[0m: name 'Print' is not defined"
          ]
        }
      ]
    },
    {
      "cell_type": "code",
      "source": [
        "print(\"8-5\")"
      ],
      "metadata": {
        "colab": {
          "base_uri": "https://localhost:8080/"
        },
        "id": "HSlmEVar00OD",
        "outputId": "22a9a557-a4f6-42d9-fff7-4c7e36fa817d"
      },
      "execution_count": null,
      "outputs": [
        {
          "output_type": "stream",
          "name": "stdout",
          "text": [
            "8-5\n"
          ]
        }
      ]
    },
    {
      "cell_type": "code",
      "source": [
        "34: Integer\n",
        "67: Integer\n",
        "\n",
        "9.5: float\n",
        "\n",
        "9 : Integer\n",
        "9.0 : Float\n",
        "\n",
        "\"ekta\":string\n",
        "'ekta':string\n",
        "\"ekta' -- invalid string\n",
        "\"s\" :string\n",
        "\n",
        "True/False: Boolean\n",
        "\n"
      ],
      "metadata": {
        "id": "OhLYn4xU1ms5"
      },
      "execution_count": null,
      "outputs": []
    },
    {
      "cell_type": "code",
      "source": [
        "print(4>1)"
      ],
      "metadata": {
        "colab": {
          "base_uri": "https://localhost:8080/"
        },
        "id": "LfeuA54_2zuF",
        "outputId": "9e1b0558-c19c-4758-fc6f-3628b6a24388"
      },
      "execution_count": null,
      "outputs": [
        {
          "output_type": "stream",
          "name": "stdout",
          "text": [
            "True\n"
          ]
        }
      ]
    },
    {
      "cell_type": "code",
      "source": [
        "print(5<3)"
      ],
      "metadata": {
        "colab": {
          "base_uri": "https://localhost:8080/"
        },
        "id": "2l0r6ugr24gH",
        "outputId": "702396d8-9721-4c6c-90ff-9afec0c50918"
      },
      "execution_count": null,
      "outputs": [
        {
          "output_type": "stream",
          "name": "stdout",
          "text": [
            "False\n"
          ]
        }
      ]
    },
    {
      "cell_type": "code",
      "source": [
        "#None"
      ],
      "metadata": {
        "id": "RrbiApyE28YT"
      },
      "execution_count": null,
      "outputs": []
    },
    {
      "cell_type": "code",
      "source": [
        "print(None)"
      ],
      "metadata": {
        "colab": {
          "base_uri": "https://localhost:8080/"
        },
        "id": "w7wNhZdJ3H6A",
        "outputId": "b7c2d938-221e-460f-e84e-d1fef709b785"
      },
      "execution_count": null,
      "outputs": [
        {
          "output_type": "stream",
          "name": "stdout",
          "text": [
            "None\n"
          ]
        }
      ]
    },
    {
      "cell_type": "code",
      "source": [
        ".2\n",
        "\"2.3\"\n",
        "'3.14'\n",
        "-3\n"
      ],
      "metadata": {
        "id": "eazTos223agm"
      },
      "execution_count": null,
      "outputs": []
    },
    {
      "cell_type": "code",
      "source": [
        "type(4)"
      ],
      "metadata": {
        "colab": {
          "base_uri": "https://localhost:8080/"
        },
        "id": "VR5u0eHy5E6-",
        "outputId": "47e5586c-bdad-464f-86c9-57c0170b6427"
      },
      "execution_count": null,
      "outputs": [
        {
          "output_type": "execute_result",
          "data": {
            "text/plain": [
              "int"
            ]
          },
          "metadata": {},
          "execution_count": 14
        }
      ]
    },
    {
      "cell_type": "code",
      "source": [
        "type(-3)"
      ],
      "metadata": {
        "colab": {
          "base_uri": "https://localhost:8080/"
        },
        "id": "w8Wkyq4I5GtB",
        "outputId": "d1792185-ec6b-4a30-ff1a-7b4c14dfe4ae"
      },
      "execution_count": null,
      "outputs": [
        {
          "output_type": "execute_result",
          "data": {
            "text/plain": [
              "int"
            ]
          },
          "metadata": {},
          "execution_count": 15
        }
      ]
    },
    {
      "cell_type": "code",
      "source": [
        "type(4.5)"
      ],
      "metadata": {
        "colab": {
          "base_uri": "https://localhost:8080/"
        },
        "id": "s3-6W5WU5JmQ",
        "outputId": "8f13a58f-a8e3-4712-f31e-1785eec02367"
      },
      "execution_count": null,
      "outputs": [
        {
          "output_type": "execute_result",
          "data": {
            "text/plain": [
              "float"
            ]
          },
          "metadata": {},
          "execution_count": 16
        }
      ]
    },
    {
      "cell_type": "code",
      "source": [
        "type(\"ekta\")"
      ],
      "metadata": {
        "colab": {
          "base_uri": "https://localhost:8080/"
        },
        "id": "q5BVmT665NHL",
        "outputId": "915a21ee-776f-4aa6-e0fc-18d6c13c8f92"
      },
      "execution_count": null,
      "outputs": [
        {
          "output_type": "execute_result",
          "data": {
            "text/plain": [
              "str"
            ]
          },
          "metadata": {},
          "execution_count": 17
        }
      ]
    },
    {
      "cell_type": "code",
      "source": [
        "type('hello')"
      ],
      "metadata": {
        "colab": {
          "base_uri": "https://localhost:8080/"
        },
        "id": "Ca-lXzW25S9m",
        "outputId": "c2412a93-d682-4972-991e-512a70104304"
      },
      "execution_count": null,
      "outputs": [
        {
          "output_type": "execute_result",
          "data": {
            "text/plain": [
              "str"
            ]
          },
          "metadata": {},
          "execution_count": 18
        }
      ]
    },
    {
      "cell_type": "code",
      "source": [
        "type(True)"
      ],
      "metadata": {
        "colab": {
          "base_uri": "https://localhost:8080/"
        },
        "id": "eEU_2Yyb5Vxm",
        "outputId": "e4713de8-8acc-4247-e8d9-a17534163328"
      },
      "execution_count": null,
      "outputs": [
        {
          "output_type": "execute_result",
          "data": {
            "text/plain": [
              "bool"
            ]
          },
          "metadata": {},
          "execution_count": 19
        }
      ]
    },
    {
      "cell_type": "code",
      "source": [
        "type(-3.5)"
      ],
      "metadata": {
        "colab": {
          "base_uri": "https://localhost:8080/"
        },
        "id": "8092FvQq5bsH",
        "outputId": "72546935-7c49-416b-9d8c-635377123be0"
      },
      "execution_count": null,
      "outputs": [
        {
          "output_type": "execute_result",
          "data": {
            "text/plain": [
              "float"
            ]
          },
          "metadata": {},
          "execution_count": 20
        }
      ]
    },
    {
      "cell_type": "code",
      "source": [
        "type(None)"
      ],
      "metadata": {
        "colab": {
          "base_uri": "https://localhost:8080/"
        },
        "id": "SkQjRpOg5gu6",
        "outputId": "53349348-1897-4679-fc81-13ae293da342"
      },
      "execution_count": null,
      "outputs": [
        {
          "output_type": "execute_result",
          "data": {
            "text/plain": [
              "NoneType"
            ]
          },
          "metadata": {},
          "execution_count": 21
        }
      ]
    },
    {
      "cell_type": "code",
      "source": [
        "print(type(5))"
      ],
      "metadata": {
        "colab": {
          "base_uri": "https://localhost:8080/"
        },
        "id": "hHMazK7U5q7c",
        "outputId": "38c5cd94-a5aa-480b-90f6-400eacca8816"
      },
      "execution_count": null,
      "outputs": [
        {
          "output_type": "stream",
          "name": "stdout",
          "text": [
            "<class 'int'>\n"
          ]
        }
      ]
    },
    {
      "cell_type": "code",
      "source": [
        "print(type(\"\"))"
      ],
      "metadata": {
        "colab": {
          "base_uri": "https://localhost:8080/"
        },
        "id": "OWVJdCnA5-IK",
        "outputId": "82355ee3-ad28-4c80-b872-ffbdfaadadd9"
      },
      "execution_count": null,
      "outputs": [
        {
          "output_type": "stream",
          "name": "stdout",
          "text": [
            "<class 'str'>\n"
          ]
        }
      ]
    },
    {
      "cell_type": "code",
      "source": [
        "print(type(None))"
      ],
      "metadata": {
        "colab": {
          "base_uri": "https://localhost:8080/"
        },
        "id": "l2ffX0Fs6D3R",
        "outputId": "8b37315e-d360-48da-f9de-262a001da3a9"
      },
      "execution_count": null,
      "outputs": [
        {
          "output_type": "stream",
          "name": "stdout",
          "text": [
            "<class 'NoneType'>\n"
          ]
        }
      ]
    },
    {
      "cell_type": "code",
      "source": [
        "print(\"Ekta\")"
      ],
      "metadata": {
        "colab": {
          "base_uri": "https://localhost:8080/"
        },
        "id": "RyhkzUH07CzO",
        "outputId": "880a1f06-213b-4586-e1a4-698196f52c01"
      },
      "execution_count": null,
      "outputs": [
        {
          "output_type": "stream",
          "name": "stdout",
          "text": [
            "Ekta\n"
          ]
        }
      ]
    },
    {
      "cell_type": "code",
      "source": [
        "#22.10"
      ],
      "metadata": {
        "id": "pjtc6mq16ILb"
      },
      "execution_count": null,
      "outputs": []
    },
    {
      "cell_type": "code",
      "source": [
        "type(print(2))"
      ],
      "metadata": {
        "colab": {
          "base_uri": "https://localhost:8080/"
        },
        "id": "-yS500tD8Cr0",
        "outputId": "b8df3f63-462b-43c5-9e66-5da430a82251"
      },
      "execution_count": null,
      "outputs": [
        {
          "output_type": "stream",
          "name": "stdout",
          "text": [
            "2\n"
          ]
        },
        {
          "output_type": "execute_result",
          "data": {
            "text/plain": [
              "NoneType"
            ]
          },
          "metadata": {},
          "execution_count": 28
        }
      ]
    },
    {
      "cell_type": "code",
      "source": [
        "type(10+10)"
      ],
      "metadata": {
        "colab": {
          "base_uri": "https://localhost:8080/"
        },
        "id": "U3YDNMfO8EdW",
        "outputId": "f6c0eaa4-e14c-4084-939c-6655cacf5720"
      },
      "execution_count": null,
      "outputs": [
        {
          "output_type": "execute_result",
          "data": {
            "text/plain": [
              "int"
            ]
          },
          "metadata": {},
          "execution_count": 29
        }
      ]
    },
    {
      "cell_type": "code",
      "source": [
        "a=3"
      ],
      "metadata": {
        "id": "3IIzP66r8XjE"
      },
      "execution_count": null,
      "outputs": []
    },
    {
      "cell_type": "code",
      "source": [
        "a"
      ],
      "metadata": {
        "colab": {
          "base_uri": "https://localhost:8080/"
        },
        "id": "1IFxCNOL8qSz",
        "outputId": "3fd3be8d-5959-4223-9001-1ccbb3e1df5a"
      },
      "execution_count": null,
      "outputs": [
        {
          "output_type": "execute_result",
          "data": {
            "text/plain": [
              "3"
            ]
          },
          "metadata": {},
          "execution_count": 31
        }
      ]
    },
    {
      "cell_type": "code",
      "source": [
        "b=4"
      ],
      "metadata": {
        "id": "KTuckRGM8rkJ"
      },
      "execution_count": null,
      "outputs": []
    },
    {
      "cell_type": "code",
      "source": [
        "b"
      ],
      "metadata": {
        "colab": {
          "base_uri": "https://localhost:8080/"
        },
        "id": "sZdKrRHJ8vwF",
        "outputId": "05c2e6ee-3dd2-4d51-da47-39546e953018"
      },
      "execution_count": null,
      "outputs": [
        {
          "output_type": "execute_result",
          "data": {
            "text/plain": [
              "4"
            ]
          },
          "metadata": {},
          "execution_count": 33
        }
      ]
    },
    {
      "cell_type": "code",
      "source": [
        "print(a)\n",
        "b"
      ],
      "metadata": {
        "colab": {
          "base_uri": "https://localhost:8080/"
        },
        "id": "Aiowdw6X8xWZ",
        "outputId": "906e6873-08ca-4ecb-abcf-0ddfc06746e4"
      },
      "execution_count": null,
      "outputs": [
        {
          "output_type": "stream",
          "name": "stdout",
          "text": [
            "3\n"
          ]
        },
        {
          "output_type": "execute_result",
          "data": {
            "text/plain": [
              "4"
            ]
          },
          "metadata": {},
          "execution_count": 35
        }
      ]
    },
    {
      "cell_type": "code",
      "source": [
        "a+b"
      ],
      "metadata": {
        "colab": {
          "base_uri": "https://localhost:8080/"
        },
        "id": "STphkSKk86YL",
        "outputId": "fd1309b5-31c9-47cf-daf9-f9fd3cc4b5e1"
      },
      "execution_count": null,
      "outputs": [
        {
          "output_type": "execute_result",
          "data": {
            "text/plain": [
              "7"
            ]
          },
          "metadata": {},
          "execution_count": 36
        }
      ]
    },
    {
      "cell_type": "code",
      "source": [
        "type(a)"
      ],
      "metadata": {
        "colab": {
          "base_uri": "https://localhost:8080/"
        },
        "id": "GLlirCCA9TER",
        "outputId": "c3f87f80-6156-4e7b-81aa-71a4694b2ce3"
      },
      "execution_count": null,
      "outputs": [
        {
          "output_type": "execute_result",
          "data": {
            "text/plain": [
              "int"
            ]
          },
          "metadata": {},
          "execution_count": 37
        }
      ]
    },
    {
      "cell_type": "code",
      "source": [
        "type(b)"
      ],
      "metadata": {
        "colab": {
          "base_uri": "https://localhost:8080/"
        },
        "id": "evkH6YX29aL-",
        "outputId": "5df1f51d-941c-482f-de44-cd1dd9b1972b"
      },
      "execution_count": null,
      "outputs": [
        {
          "output_type": "execute_result",
          "data": {
            "text/plain": [
              "int"
            ]
          },
          "metadata": {},
          "execution_count": 38
        }
      ]
    },
    {
      "cell_type": "code",
      "source": [
        "type(a+b)"
      ],
      "metadata": {
        "colab": {
          "base_uri": "https://localhost:8080/"
        },
        "id": "8c8AChHd9bkf",
        "outputId": "69662a44-4281-45e4-bcc0-c9d272563613"
      },
      "execution_count": null,
      "outputs": [
        {
          "output_type": "execute_result",
          "data": {
            "text/plain": [
              "int"
            ]
          },
          "metadata": {},
          "execution_count": 39
        }
      ]
    },
    {
      "cell_type": "code",
      "source": [
        "c=3.5"
      ],
      "metadata": {
        "id": "5vhtd-Ft9dg-"
      },
      "execution_count": null,
      "outputs": []
    },
    {
      "cell_type": "code",
      "source": [
        "a+c"
      ],
      "metadata": {
        "colab": {
          "base_uri": "https://localhost:8080/"
        },
        "id": "Ovug4lqj9xde",
        "outputId": "86e45b2e-6384-4a88-9050-d9a476a58c16"
      },
      "execution_count": null,
      "outputs": [
        {
          "output_type": "execute_result",
          "data": {
            "text/plain": [
              "6.5"
            ]
          },
          "metadata": {},
          "execution_count": 41
        }
      ]
    },
    {
      "cell_type": "code",
      "source": [
        "3=a"
      ],
      "metadata": {
        "colab": {
          "base_uri": "https://localhost:8080/",
          "height": 106
        },
        "id": "dNleSa8u9yvM",
        "outputId": "68dabd4d-40f3-468b-9532-e3ee3fbfddf8"
      },
      "execution_count": null,
      "outputs": [
        {
          "output_type": "error",
          "ename": "SyntaxError",
          "evalue": "cannot assign to literal here. Maybe you meant '==' instead of '='? (<ipython-input-42-2bdcbecc86ad>, line 1)",
          "traceback": [
            "\u001b[0;36m  File \u001b[0;32m\"<ipython-input-42-2bdcbecc86ad>\"\u001b[0;36m, line \u001b[0;32m1\u001b[0m\n\u001b[0;31m    3=a\u001b[0m\n\u001b[0m    ^\u001b[0m\n\u001b[0;31mSyntaxError\u001b[0m\u001b[0;31m:\u001b[0m cannot assign to literal here. Maybe you meant '==' instead of '='?\n"
          ]
        }
      ]
    },
    {
      "cell_type": "code",
      "source": [
        "d= \"Ekta\""
      ],
      "metadata": {
        "id": "qRbHHvy096GS"
      },
      "execution_count": null,
      "outputs": []
    },
    {
      "cell_type": "code",
      "source": [
        "e=\"Shah\""
      ],
      "metadata": {
        "id": "svnCoB63-GI4"
      },
      "execution_count": null,
      "outputs": []
    },
    {
      "cell_type": "code",
      "source": [
        "print(d)"
      ],
      "metadata": {
        "colab": {
          "base_uri": "https://localhost:8080/"
        },
        "id": "ozQ5CZ3D-Hdd",
        "outputId": "f8d1c118-90ff-4130-cd42-312db0a7a742"
      },
      "execution_count": null,
      "outputs": [
        {
          "output_type": "stream",
          "name": "stdout",
          "text": [
            "Ekta\n"
          ]
        }
      ]
    },
    {
      "cell_type": "code",
      "source": [
        "print(d,e)"
      ],
      "metadata": {
        "colab": {
          "base_uri": "https://localhost:8080/"
        },
        "id": "3qCayFbs-KF1",
        "outputId": "25d936e7-60e2-4947-df54-fd9908b44275"
      },
      "execution_count": null,
      "outputs": [
        {
          "output_type": "stream",
          "name": "stdout",
          "text": [
            "Ekta Shah\n"
          ]
        }
      ]
    },
    {
      "cell_type": "code",
      "source": [
        "d,e"
      ],
      "metadata": {
        "colab": {
          "base_uri": "https://localhost:8080/"
        },
        "id": "h6HGR24n-Nc4",
        "outputId": "dd8b30df-4529-4e5a-aed6-d68772697e48"
      },
      "execution_count": null,
      "outputs": [
        {
          "output_type": "execute_result",
          "data": {
            "text/plain": [
              "('Ekta', 'Shah')"
            ]
          },
          "metadata": {},
          "execution_count": 51
        }
      ]
    },
    {
      "cell_type": "code",
      "source": [
        "print(d + \" \" +e)"
      ],
      "metadata": {
        "colab": {
          "base_uri": "https://localhost:8080/"
        },
        "id": "v3AWRSs6_LhD",
        "outputId": "589da487-37d1-4250-9e93-970a6a72d0fb"
      },
      "execution_count": null,
      "outputs": [
        {
          "output_type": "stream",
          "name": "stdout",
          "text": [
            "Ekta Shah\n"
          ]
        }
      ]
    },
    {
      "cell_type": "code",
      "source": [
        "print(a=5)"
      ],
      "metadata": {
        "colab": {
          "base_uri": "https://localhost:8080/",
          "height": 141
        },
        "id": "r0IEAAYT_g7e",
        "outputId": "1d2eef50-9304-4efb-aed1-2aba7830e838"
      },
      "execution_count": null,
      "outputs": [
        {
          "output_type": "error",
          "ename": "TypeError",
          "evalue": "'a' is an invalid keyword argument for print()",
          "traceback": [
            "\u001b[0;31m---------------------------------------------------------------------------\u001b[0m",
            "\u001b[0;31mTypeError\u001b[0m                                 Traceback (most recent call last)",
            "\u001b[0;32m<ipython-input-50-daa30a183b3f>\u001b[0m in \u001b[0;36m<cell line: 1>\u001b[0;34m()\u001b[0m\n\u001b[0;32m----> 1\u001b[0;31m \u001b[0mprint\u001b[0m\u001b[0;34m(\u001b[0m\u001b[0ma\u001b[0m\u001b[0;34m=\u001b[0m\u001b[0;36m5\u001b[0m\u001b[0;34m)\u001b[0m\u001b[0;34m\u001b[0m\u001b[0;34m\u001b[0m\u001b[0m\n\u001b[0m",
            "\u001b[0;31mTypeError\u001b[0m: 'a' is an invalid keyword argument for print()"
          ]
        }
      ]
    },
    {
      "cell_type": "code",
      "source": [
        "1d = \"Ekta\""
      ],
      "metadata": {
        "colab": {
          "base_uri": "https://localhost:8080/",
          "height": 106
        },
        "id": "Vsvd9pFo-UGS",
        "outputId": "1a35bad0-4d6d-4c8a-92c0-8533c2b1fb95"
      },
      "execution_count": null,
      "outputs": [
        {
          "output_type": "error",
          "ename": "SyntaxError",
          "evalue": "invalid decimal literal (<ipython-input-48-56f03db46e69>, line 1)",
          "traceback": [
            "\u001b[0;36m  File \u001b[0;32m\"<ipython-input-48-56f03db46e69>\"\u001b[0;36m, line \u001b[0;32m1\u001b[0m\n\u001b[0;31m    1d = \"Ekta\"\u001b[0m\n\u001b[0m    ^\u001b[0m\n\u001b[0;31mSyntaxError\u001b[0m\u001b[0;31m:\u001b[0m invalid decimal literal\n"
          ]
        }
      ]
    },
    {
      "cell_type": "code",
      "source": [
        "#1st char cannot be a digit"
      ],
      "metadata": {
        "id": "QGxPPa9m-gsn"
      },
      "execution_count": null,
      "outputs": []
    },
    {
      "cell_type": "markdown",
      "source": [
        "A Python identifier can be a combination of lowercase/ uppercase letters, digits, or an underscore.\n",
        "\n",
        "The following characters are valid:\n",
        "\n",
        "Lowercase letters (a to z)\n",
        "Uppercase letters (A to Z)\n",
        "Digits (0 to 9)\n",
        "Underscore (_)"
      ],
      "metadata": {
        "id": "wlm8HuO_-nT6"
      }
    },
    {
      "cell_type": "code",
      "source": [
        "str=\"Ekta\""
      ],
      "metadata": {
        "id": "vz8tsyZJ-vqJ"
      },
      "execution_count": null,
      "outputs": []
    },
    {
      "cell_type": "code",
      "source": [
        "_str=\"Ekta\""
      ],
      "metadata": {
        "id": "YkUEyf2uAg-b"
      },
      "execution_count": null,
      "outputs": []
    },
    {
      "cell_type": "code",
      "source": [
        "str_1=\"Ekta\""
      ],
      "metadata": {
        "id": "5symAycZAihX"
      },
      "execution_count": null,
      "outputs": []
    },
    {
      "cell_type": "code",
      "source": [
        "x=10"
      ],
      "metadata": {
        "id": "GJLYKkY3Ams8"
      },
      "execution_count": null,
      "outputs": []
    },
    {
      "cell_type": "code",
      "source": [
        "y=x"
      ],
      "metadata": {
        "id": "EGvD9OZ5Axcs"
      },
      "execution_count": null,
      "outputs": []
    },
    {
      "cell_type": "code",
      "source": [
        "print(x)"
      ],
      "metadata": {
        "colab": {
          "base_uri": "https://localhost:8080/"
        },
        "id": "PvWTM1pdAyYW",
        "outputId": "445d44ac-5815-46da-b80e-8cde289aabcc"
      },
      "execution_count": null,
      "outputs": [
        {
          "output_type": "stream",
          "name": "stdout",
          "text": [
            "10\n"
          ]
        }
      ]
    },
    {
      "cell_type": "code",
      "source": [
        "print(y)"
      ],
      "metadata": {
        "colab": {
          "base_uri": "https://localhost:8080/"
        },
        "id": "Ok9sN3LjAz9N",
        "outputId": "e54dce95-04df-40dc-dcb0-a6c9ffa39817"
      },
      "execution_count": null,
      "outputs": [
        {
          "output_type": "stream",
          "name": "stdout",
          "text": [
            "10\n"
          ]
        }
      ]
    },
    {
      "cell_type": "code",
      "source": [
        "num=y"
      ],
      "metadata": {
        "id": "roTVTGN7A1nT"
      },
      "execution_count": null,
      "outputs": []
    },
    {
      "cell_type": "code",
      "source": [
        "y=5"
      ],
      "metadata": {
        "id": "r010kxt9BFlp"
      },
      "execution_count": null,
      "outputs": []
    },
    {
      "cell_type": "code",
      "source": [
        "print(num,y)"
      ],
      "metadata": {
        "colab": {
          "base_uri": "https://localhost:8080/"
        },
        "id": "knCVvDuBBGdr",
        "outputId": "5456ae11-a703-4da1-fde6-65626ad1b298"
      },
      "execution_count": null,
      "outputs": [
        {
          "output_type": "stream",
          "name": "stdout",
          "text": [
            "10 5\n"
          ]
        }
      ]
    },
    {
      "cell_type": "code",
      "source": [
        "y+=1"
      ],
      "metadata": {
        "id": "a1L85zvSBIjY"
      },
      "execution_count": null,
      "outputs": []
    },
    {
      "cell_type": "code",
      "source": [
        "hELLO\n",
        "1_name_input\n",
        "a*b*c\n",
        "Cod3#$"
      ],
      "metadata": {
        "id": "sYjpXcSBBWzQ"
      },
      "execution_count": null,
      "outputs": []
    },
    {
      "cell_type": "code",
      "source": [
        "name = input()\n",
        "print(name)"
      ],
      "metadata": {
        "colab": {
          "base_uri": "https://localhost:8080/"
        },
        "id": "LQ0rKyfYCVP-",
        "outputId": "e4ada202-0233-4efb-8cd1-54f3f2e5489d"
      },
      "execution_count": null,
      "outputs": [
        {
          "output_type": "stream",
          "name": "stdout",
          "text": [
            "Ekta\n",
            "Ekta\n"
          ]
        }
      ]
    },
    {
      "cell_type": "code",
      "source": [
        "name"
      ],
      "metadata": {
        "colab": {
          "base_uri": "https://localhost:8080/",
          "height": 35
        },
        "id": "Q27Hxm52CZ4g",
        "outputId": "de6c5e27-1d6b-4676-a7dc-161a5eed060f"
      },
      "execution_count": null,
      "outputs": [
        {
          "output_type": "execute_result",
          "data": {
            "text/plain": [
              "'Ekta'"
            ],
            "application/vnd.google.colaboratory.intrinsic+json": {
              "type": "string"
            }
          },
          "metadata": {},
          "execution_count": 68
        }
      ]
    },
    {
      "cell_type": "code",
      "source": [
        "print(\"Hello\",name)"
      ],
      "metadata": {
        "colab": {
          "base_uri": "https://localhost:8080/"
        },
        "id": "FuD0F0TMCd1f",
        "outputId": "606a071c-13a7-4d9d-8b2e-3c2e96f7b7a6"
      },
      "execution_count": null,
      "outputs": [
        {
          "output_type": "stream",
          "name": "stdout",
          "text": [
            "Hello Ekta\n"
          ]
        }
      ]
    },
    {
      "cell_type": "code",
      "source": [
        "age= input()"
      ],
      "metadata": {
        "colab": {
          "base_uri": "https://localhost:8080/"
        },
        "id": "-4Y9-5G9Cl0X",
        "outputId": "022313e3-3c68-4246-ea8d-f29f86f686be"
      },
      "execution_count": null,
      "outputs": [
        {
          "name": "stdout",
          "output_type": "stream",
          "text": [
            "10\n"
          ]
        }
      ]
    },
    {
      "cell_type": "code",
      "source": [
        "age"
      ],
      "metadata": {
        "colab": {
          "base_uri": "https://localhost:8080/",
          "height": 35
        },
        "id": "zuMzSCTrDJ02",
        "outputId": "d3753b92-408e-47fa-85b9-cfdeb3041f6d"
      },
      "execution_count": null,
      "outputs": [
        {
          "output_type": "execute_result",
          "data": {
            "text/plain": [
              "'10'"
            ],
            "application/vnd.google.colaboratory.intrinsic+json": {
              "type": "string"
            }
          },
          "metadata": {},
          "execution_count": 73
        }
      ]
    },
    {
      "cell_type": "code",
      "source": [
        "x = 3\n",
        "y = 'hello'\n",
        "num = y\n",
        "y = 5\n",
        "print(num,y)"
      ],
      "metadata": {
        "colab": {
          "base_uri": "https://localhost:8080/"
        },
        "id": "maZjNkbEDMba",
        "outputId": "4e7a2725-8b2c-4cdb-855b-213be6b166e4"
      },
      "execution_count": null,
      "outputs": [
        {
          "output_type": "stream",
          "name": "stdout",
          "text": [
            "hello 5\n"
          ]
        }
      ]
    },
    {
      "cell_type": "code",
      "source": [
        "x=input()\n",
        "y=input()\n",
        "print(x+y)"
      ],
      "metadata": {
        "colab": {
          "base_uri": "https://localhost:8080/"
        },
        "id": "1y6E4BFrEkUT",
        "outputId": "58eb4054-d50d-43bb-9132-6537355ac899"
      },
      "execution_count": null,
      "outputs": [
        {
          "output_type": "stream",
          "name": "stdout",
          "text": [
            "4\n",
            "5\n",
            "45\n"
          ]
        }
      ]
    },
    {
      "cell_type": "code",
      "source": [
        "x=input()\n",
        "y=input()\n",
        "x=int(x)\n",
        "y=int(y)\n",
        "print(type(x))\n",
        "print(type(y))"
      ],
      "metadata": {
        "colab": {
          "base_uri": "https://localhost:8080/"
        },
        "id": "LxzLeY_WFDYT",
        "outputId": "17fcedfb-26ec-463b-b74b-cfaed3f94f27"
      },
      "execution_count": null,
      "outputs": [
        {
          "output_type": "stream",
          "name": "stdout",
          "text": [
            "4\n",
            "5\n",
            "<class 'int'>\n",
            "<class 'int'>\n"
          ]
        }
      ]
    },
    {
      "cell_type": "code",
      "source": [
        "print(x+y)"
      ],
      "metadata": {
        "colab": {
          "base_uri": "https://localhost:8080/"
        },
        "id": "1M-QUw6_Fg5C",
        "outputId": "7dd2da7d-722d-4b63-fcc2-148be7a419c6"
      },
      "execution_count": null,
      "outputs": [
        {
          "output_type": "stream",
          "name": "stdout",
          "text": [
            "9\n"
          ]
        }
      ]
    },
    {
      "cell_type": "code",
      "source": [
        "x=\"I am a string\"\n",
        "z=int(x)"
      ],
      "metadata": {
        "colab": {
          "base_uri": "https://localhost:8080/",
          "height": 159
        },
        "id": "QbBBgcsuFoJp",
        "outputId": "4cf11a16-4da9-41eb-dcfe-c72922338579"
      },
      "execution_count": null,
      "outputs": [
        {
          "output_type": "error",
          "ename": "ValueError",
          "evalue": "invalid literal for int() with base 10: 'I am a string'",
          "traceback": [
            "\u001b[0;31m---------------------------------------------------------------------------\u001b[0m",
            "\u001b[0;31mValueError\u001b[0m                                Traceback (most recent call last)",
            "\u001b[0;32m<ipython-input-78-f2f135f0544d>\u001b[0m in \u001b[0;36m<cell line: 2>\u001b[0;34m()\u001b[0m\n\u001b[1;32m      1\u001b[0m \u001b[0mx\u001b[0m\u001b[0;34m=\u001b[0m\u001b[0;34m\"I am a string\"\u001b[0m\u001b[0;34m\u001b[0m\u001b[0;34m\u001b[0m\u001b[0m\n\u001b[0;32m----> 2\u001b[0;31m \u001b[0mz\u001b[0m\u001b[0;34m=\u001b[0m\u001b[0mint\u001b[0m\u001b[0;34m(\u001b[0m\u001b[0mx\u001b[0m\u001b[0;34m)\u001b[0m\u001b[0;34m\u001b[0m\u001b[0;34m\u001b[0m\u001b[0m\n\u001b[0m",
            "\u001b[0;31mValueError\u001b[0m: invalid literal for int() with base 10: 'I am a string'"
          ]
        }
      ]
    },
    {
      "cell_type": "code",
      "source": [
        "age = input(\"Enter age\")\n",
        "age = int(age)\n",
        "print(type(age))"
      ],
      "metadata": {
        "colab": {
          "base_uri": "https://localhost:8080/"
        },
        "id": "VoUCQ-GdFzW7",
        "outputId": "c1549eaa-b66a-404b-a005-a168a3c8e93b"
      },
      "execution_count": null,
      "outputs": [
        {
          "output_type": "stream",
          "name": "stdout",
          "text": [
            "Enter age10\n",
            "<class 'int'>\n"
          ]
        }
      ]
    },
    {
      "cell_type": "code",
      "source": [
        "print(age)"
      ],
      "metadata": {
        "colab": {
          "base_uri": "https://localhost:8080/"
        },
        "id": "iP6NclgaGKgv",
        "outputId": "3caf29b7-a18b-40f2-c8ca-9da59a2e26ff"
      },
      "execution_count": null,
      "outputs": [
        {
          "output_type": "stream",
          "name": "stdout",
          "text": [
            "10\n"
          ]
        }
      ]
    },
    {
      "cell_type": "code",
      "source": [
        "age1=input()\n",
        "age2=input()\n",
        "int(age1)+int(age2)"
      ],
      "metadata": {
        "colab": {
          "base_uri": "https://localhost:8080/"
        },
        "id": "0ZPbaTpVGNMG",
        "outputId": "5fab0a8d-743e-44f6-c28f-a580f9f14d55"
      },
      "execution_count": null,
      "outputs": [
        {
          "name": "stdout",
          "output_type": "stream",
          "text": [
            "10\n",
            "20\n"
          ]
        },
        {
          "output_type": "execute_result",
          "data": {
            "text/plain": [
              "30"
            ]
          },
          "metadata": {},
          "execution_count": 81
        }
      ]
    },
    {
      "cell_type": "code",
      "source": [
        "age1=int(input(\"Enter age:\"))\n",
        "age2=int(input(\"Enter age:\"))\n",
        "age1+age2"
      ],
      "metadata": {
        "colab": {
          "base_uri": "https://localhost:8080/"
        },
        "id": "s3upJWwTGTqD",
        "outputId": "2d460fc9-65f9-4601-ef5f-97a6f0d63e54"
      },
      "execution_count": null,
      "outputs": [
        {
          "name": "stdout",
          "output_type": "stream",
          "text": [
            "Enter age:10\n",
            "Enter age:20\n"
          ]
        },
        {
          "output_type": "execute_result",
          "data": {
            "text/plain": [
              "30"
            ]
          },
          "metadata": {},
          "execution_count": 83
        }
      ]
    },
    {
      "cell_type": "code",
      "source": [
        "name = input(\"Enter name:\")"
      ],
      "metadata": {
        "colab": {
          "base_uri": "https://localhost:8080/"
        },
        "id": "ggV13EYgGk_r",
        "outputId": "8536a86a-6762-4a8b-d307-8d0277732be9"
      },
      "execution_count": null,
      "outputs": [
        {
          "name": "stdout",
          "output_type": "stream",
          "text": [
            "Enter name:Ekta\n"
          ]
        }
      ]
    },
    {
      "cell_type": "code",
      "source": [
        "name"
      ],
      "metadata": {
        "colab": {
          "base_uri": "https://localhost:8080/",
          "height": 35
        },
        "id": "SEverL2JG-v0",
        "outputId": "6c9af21a-470b-4e2e-e01b-4afb82d1feac"
      },
      "execution_count": null,
      "outputs": [
        {
          "output_type": "execute_result",
          "data": {
            "text/plain": [
              "'Ekta'"
            ],
            "application/vnd.google.colaboratory.intrinsic+json": {
              "type": "string"
            }
          },
          "metadata": {},
          "execution_count": 85
        }
      ]
    },
    {
      "cell_type": "code",
      "source": [
        "name=input()"
      ],
      "metadata": {
        "colab": {
          "base_uri": "https://localhost:8080/"
        },
        "id": "wmGVnwXhHCgP",
        "outputId": "ce2ce17d-9637-4376-bbff-86d57733335d"
      },
      "execution_count": null,
      "outputs": [
        {
          "name": "stdout",
          "output_type": "stream",
          "text": [
            "e\n"
          ]
        }
      ]
    },
    {
      "cell_type": "code",
      "source": [
        "# if\n",
        "\n",
        "time = int(input(\"Enter the time :\"))\n",
        "if time > 9 and time < 12:\n",
        "    print(\"Good morning\")\n",
        "else:\n",
        "    if time > 12 and time < 5:\n",
        "        print(\"Good afternoon\")\n",
        "    else:\n",
        "        if time > 5 and time < 9:\n",
        "            print(\"Good evening\")\n",
        "        else:\n",
        "            print(\"Good night\")"
      ],
      "metadata": {
        "id": "j3fRUpd2QmaG",
        "outputId": "4cca402e-6329-474c-f87c-1566b429a7ef",
        "colab": {
          "base_uri": "https://localhost:8080/"
        }
      },
      "execution_count": null,
      "outputs": [
        {
          "output_type": "stream",
          "name": "stdout",
          "text": [
            "Enter the time :10\n",
            "Good morning\n"
          ]
        }
      ]
    },
    {
      "cell_type": "code",
      "source": [
        "# elif\n",
        "\n",
        "time = int(input(\"Enter the time: \"))\n",
        "if time > 9 and time < 12:\n",
        "    print(\"Good morning\")\n",
        "elif time > 12 and time <= 17:\n",
        "    print(\"Good afternoon\")\n",
        "elif time > 17 and time <= 21:\n",
        "    print(\"Good evening\")\n",
        "else:\n",
        "  print(\"Good night\")\n"
      ],
      "metadata": {
        "id": "pEi8Dhd8Qpar",
        "outputId": "03c662cf-f99b-4d7e-bf6c-9eb6ed859bfb",
        "colab": {
          "base_uri": "https://localhost:8080/"
        }
      },
      "execution_count": null,
      "outputs": [
        {
          "output_type": "stream",
          "name": "stdout",
          "text": [
            "Enter the time: 22\n",
            "Good night\n"
          ]
        }
      ]
    },
    {
      "cell_type": "code",
      "source": [
        "# nested if\n",
        "\n",
        "\n",
        "time = int(input(\"Enter the time :\"))\n",
        "if time <= 24:\n",
        "  if time > 9 and time <= 12:\n",
        "    print(\"Good morning\")\n",
        "  elif time > 12 and time <= 17:\n",
        "    print(\"Good afternoon\")\n",
        "  elif time > 17 and time <= 21:\n",
        "    print(\"Good evening\")\n",
        "  else:\n",
        "      print(\"Good night\")\n",
        "else:\n",
        "  print(\"Not under the 24 hour rule\")"
      ],
      "metadata": {
        "id": "L7bmuEitTEU6",
        "outputId": "268f912d-fb9a-475b-8497-64facb7414c7",
        "colab": {
          "base_uri": "https://localhost:8080/"
        }
      },
      "execution_count": null,
      "outputs": [
        {
          "output_type": "stream",
          "name": "stdout",
          "text": [
            "Enter the time :16\n",
            "Good afternoon\n"
          ]
        }
      ]
    },
    {
      "cell_type": "code",
      "source": [
        "#Q2. ATM dispatches only 500 and 200 notes are available,\n",
        "#take an amount as input from user, if amont is dischargeable,\n",
        "#then print 'Discharging cash' else 'Denomination not available'\n",
        "\n",
        "\n",
        "amount = int(input(\"Enter the amount:\"))\n",
        "if amount%500 == 0 or amount%200 == 0 or (amount%500)%200==0: #amount%200!=0\n",
        "    print(\"Discharging cash\")\n",
        "else:\n",
        "    print(\"Denomination not avilable\")"
      ],
      "metadata": {
        "id": "nJ7HYOvpfU4g",
        "outputId": "80e7a6f6-e935-4166-c48a-31c8504c8156",
        "colab": {
          "base_uri": "https://localhost:8080/"
        }
      },
      "execution_count": null,
      "outputs": [
        {
          "output_type": "stream",
          "name": "stdout",
          "text": [
            "Enter the amount:2100\n",
            "Denomination not avilable\n"
          ]
        }
      ]
    },
    {
      "cell_type": "code",
      "source": [
        "amount = int(input(\"Enter the amount:\"))\n",
        "if amount <= 500 and (amount%500)%200==0:\n",
        "  print(\"Discharging cash\")\n",
        "elif amount > 500 and ((amount%500)%200)%100==0:\n",
        "  print(\"discharging cash\")\n",
        "else:\n",
        "  print(\"Denomination not available\")"
      ],
      "metadata": {
        "id": "StUzdmd3grwn",
        "outputId": "06eebcf2-ba0a-45fb-a1f8-6f05402eb667",
        "colab": {
          "base_uri": "https://localhost:8080/"
        }
      },
      "execution_count": null,
      "outputs": [
        {
          "output_type": "stream",
          "name": "stdout",
          "text": [
            "Enter the amount:2100\n",
            "discharging cash\n"
          ]
        }
      ]
    },
    {
      "cell_type": "markdown",
      "source": [
        "Loops (while and for loop)"
      ],
      "metadata": {
        "id": "pGjhyWv4jhqC"
      }
    },
    {
      "cell_type": "code",
      "source": [
        "num = int(input(\"Enter the start value:\" ))\n",
        "cap = int(input(\"Enter the cap value:\" ))\n",
        "count = 0\n",
        "while (num<=cap):\n",
        "  count=count+1\n",
        "  print(num)\n",
        "  num=num+1\n",
        "print(\"Count:\",  count)"
      ],
      "metadata": {
        "id": "S6cWr7OYjmyH",
        "outputId": "0ca27bda-4759-4dca-add5-d0e70d85aaa2",
        "colab": {
          "base_uri": "https://localhost:8080/"
        }
      },
      "execution_count": null,
      "outputs": [
        {
          "output_type": "stream",
          "name": "stdout",
          "text": [
            "Enter the start value:1\n",
            "Enter the cap value:4\n",
            "1\n",
            "2\n",
            "3\n",
            "4\n",
            "Count: 4\n"
          ]
        }
      ]
    },
    {
      "cell_type": "code",
      "source": [
        "# even number\n",
        "num = int(input(\"Enter the start value:\" ))\n",
        "cap = int(input(\"Enter the cap value:\" ))\n",
        "count = 0\n",
        "if num%2==0:\n",
        "  num=num\n",
        "else:\n",
        "  num=num+1\n",
        "while (num<=cap):\n",
        "  count=count+1\n",
        "  print(num)\n",
        "  num=num+2\n",
        "print(\"count:\", count)\n"
      ],
      "metadata": {
        "id": "PUvSrgpsory0",
        "outputId": "333c9e4a-dc72-407c-fef0-73dfe43dd85b",
        "colab": {
          "base_uri": "https://localhost:8080/"
        }
      },
      "execution_count": null,
      "outputs": [
        {
          "output_type": "stream",
          "name": "stdout",
          "text": [
            "Enter the start value:1\n",
            "Enter the cap value:10\n",
            "2\n",
            "4\n",
            "6\n",
            "8\n",
            "10\n",
            "count: 5\n"
          ]
        }
      ]
    },
    {
      "cell_type": "code",
      "source": [
        "# odd number\n",
        "\n",
        "num = int(input(\"Enter the start value:\" ))\n",
        "cap = int(input(\"Enter the cap value:\" ))\n",
        "count = 0\n",
        "if num%2!=0:\n",
        "  num=num\n",
        "else:\n",
        "  num=num+1\n",
        "while (num<=cap):\n",
        "  count=count+1\n",
        "  print(num)\n",
        "  num=num+2\n",
        "print(\"count:\", count)\n"
      ],
      "metadata": {
        "id": "BxP5V_UXSuzJ",
        "outputId": "3eb980a0-8733-49b2-f39a-03575d362e0f",
        "colab": {
          "base_uri": "https://localhost:8080/"
        }
      },
      "execution_count": null,
      "outputs": [
        {
          "output_type": "stream",
          "name": "stdout",
          "text": [
            "Enter the start value:1\n",
            "Enter the cap value:10\n",
            "1\n",
            "3\n",
            "5\n",
            "7\n",
            "9\n",
            "count: 5\n"
          ]
        }
      ]
    },
    {
      "cell_type": "code",
      "source": [
        "# end operator\n",
        "\n",
        "num=1\n",
        "while (num<=5):\n",
        "  print(num, end=' ')\n",
        "  num=num+1"
      ],
      "metadata": {
        "id": "JdZ1nS7LUwZd",
        "outputId": "0fb79cba-b760-48a0-d1e8-37a92c6fd0f5",
        "colab": {
          "base_uri": "https://localhost:8080/"
        }
      },
      "execution_count": null,
      "outputs": [
        {
          "output_type": "stream",
          "name": "stdout",
          "text": [
            "1 2 3 4 5 "
          ]
        }
      ]
    },
    {
      "cell_type": "code",
      "source": [
        "# seperator operator  eg . -> sep= ',' , 'A' , new_line = \"\\n\"\n",
        "\n",
        "print(\"these\", \"are\", \"pyhthon\", sep=\" \")"
      ],
      "metadata": {
        "id": "s4LbxUCSIO8f",
        "outputId": "6835533a-eb94-48be-9b75-f59956615115",
        "colab": {
          "base_uri": "https://localhost:8080/"
        }
      },
      "execution_count": null,
      "outputs": [
        {
          "output_type": "stream",
          "name": "stdout",
          "text": [
            "these are pyhthon\n"
          ]
        }
      ]
    },
    {
      "cell_type": "code",
      "source": [
        "# take input and print multiplication table\n",
        "\n",
        "x=int(input(\"Enter the number:\"))\n",
        "num=1\n",
        "print(\"printing multiplication table of:\", x)\n",
        "while num<=10:\n",
        "  print(x*num, end=\" \")\n",
        "  num+=1"
      ],
      "metadata": {
        "id": "E2EbrBmaIzF4",
        "outputId": "9f8011d1-73b8-4415-86b0-31cda6947c43",
        "colab": {
          "base_uri": "https://localhost:8080/"
        }
      },
      "execution_count": null,
      "outputs": [
        {
          "output_type": "stream",
          "name": "stdout",
          "text": [
            "Enter the number:4\n",
            "printing multiplication table of: 4\n",
            "4 8 12 16 20 24 28 32 36 40 "
          ]
        }
      ]
    },
    {
      "cell_type": "code",
      "source": [
        "# take input and print multiplication table -> test cases\n",
        "\n",
        "test_cases = int(input(\"Enter test cases:\"))\n",
        "t=1\n",
        "while t<=test_cases:\n",
        "  t+=1\n",
        "  x=int(input(\"Enter the number:\"))\n",
        "  num=1\n",
        "  print(\"printing multiplication table of:\", x)\n",
        "  while num<=10:\n",
        "    print(x*num, end=\" \")\n",
        "    num+=1\n",
        "  print(\"\\n\")"
      ],
      "metadata": {
        "collapsed": true,
        "id": "lCWsaltDJu2z"
      },
      "execution_count": null,
      "outputs": []
    },
    {
      "cell_type": "code",
      "source": [
        "# for loop, array\n",
        "\n",
        "\n",
        "for i in [50, 65, 78, 99, 45]:\n",
        "  print(i)"
      ],
      "metadata": {
        "id": "iDsBugnNAdnY"
      },
      "execution_count": null,
      "outputs": []
    },
    {
      "cell_type": "code",
      "source": [
        "list_of_marks = [50, 65, 75, 60, 90]\n",
        "for i in list_of_marks:\n",
        "  print(i)"
      ],
      "metadata": {
        "id": "uHICbynUEDNg",
        "colab": {
          "base_uri": "https://localhost:8080/"
        },
        "outputId": "479bd083-0bae-4b15-e688-dd196ebca18f"
      },
      "execution_count": null,
      "outputs": [
        {
          "output_type": "stream",
          "name": "stdout",
          "text": [
            "50\n",
            "65\n",
            "75\n",
            "60\n",
            "90\n"
          ]
        }
      ]
    },
    {
      "cell_type": "code",
      "source": [
        "list_of_marks[0]"
      ],
      "metadata": {
        "id": "aMobMwQVESVn",
        "colab": {
          "base_uri": "https://localhost:8080/"
        },
        "outputId": "5cc5fd64-810c-416f-b16e-58d9d38861e2"
      },
      "execution_count": null,
      "outputs": [
        {
          "output_type": "execute_result",
          "data": {
            "text/plain": [
              "50"
            ]
          },
          "metadata": {},
          "execution_count": 5
        }
      ]
    },
    {
      "cell_type": "code",
      "source": [
        "range(2,8)"
      ],
      "metadata": {
        "id": "wsadkDSWEzPp",
        "colab": {
          "base_uri": "https://localhost:8080/"
        },
        "outputId": "db419a8b-13b9-4508-8fd6-542445df7e00"
      },
      "execution_count": null,
      "outputs": [
        {
          "output_type": "execute_result",
          "data": {
            "text/plain": [
              "range(2, 8)"
            ]
          },
          "metadata": {},
          "execution_count": 3
        }
      ]
    },
    {
      "cell_type": "code",
      "source": [
        "list(range(2,8))"
      ],
      "metadata": {
        "colab": {
          "base_uri": "https://localhost:8080/"
        },
        "id": "HvSEQhQkFqBk",
        "outputId": "5d1b2a1c-aaaf-418f-848a-0b0184395f7c"
      },
      "execution_count": null,
      "outputs": [
        {
          "output_type": "execute_result",
          "data": {
            "text/plain": [
              "[2, 3, 4, 5, 6, 7]"
            ]
          },
          "metadata": {},
          "execution_count": 6
        }
      ]
    },
    {
      "cell_type": "code",
      "source": [
        "a = [1, 2, 3, 4, 5, 6, 6]\n"
      ],
      "metadata": {
        "id": "rIZcyI-mGBru"
      },
      "execution_count": null,
      "outputs": []
    },
    {
      "cell_type": "code",
      "source": [
        "list(range(4,15))"
      ],
      "metadata": {
        "colab": {
          "base_uri": "https://localhost:8080/"
        },
        "id": "9DxwiHJOGPPD",
        "outputId": "270f6d93-c0d4-49d8-bf1c-11346f2fdd45"
      },
      "execution_count": null,
      "outputs": [
        {
          "output_type": "execute_result",
          "data": {
            "text/plain": [
              "[4, 5, 6, 7, 8, 9, 10, 11, 12, 13, 14]"
            ]
          },
          "metadata": {},
          "execution_count": 9
        }
      ]
    },
    {
      "cell_type": "code",
      "source": [
        "for i in range(2,15):\n",
        "  print(i)"
      ],
      "metadata": {
        "colab": {
          "base_uri": "https://localhost:8080/"
        },
        "collapsed": true,
        "id": "-szky731GVBf",
        "outputId": "ad751702-0fe0-4569-bab4-951c78c9d21c"
      },
      "execution_count": null,
      "outputs": [
        {
          "output_type": "stream",
          "name": "stdout",
          "text": [
            "2\n",
            "3\n",
            "4\n",
            "5\n",
            "6\n",
            "7\n",
            "8\n",
            "9\n",
            "10\n",
            "11\n",
            "12\n",
            "13\n",
            "14\n"
          ]
        }
      ]
    },
    {
      "cell_type": "code",
      "source": [
        "range(5)"
      ],
      "metadata": {
        "colab": {
          "base_uri": "https://localhost:8080/"
        },
        "id": "drmhcxiHGhV_",
        "outputId": "d2e4d604-b330-465d-d4ca-df295ccc102e"
      },
      "execution_count": null,
      "outputs": [
        {
          "output_type": "execute_result",
          "data": {
            "text/plain": [
              "range(0, 5)"
            ]
          },
          "metadata": {},
          "execution_count": 11
        }
      ]
    },
    {
      "cell_type": "code",
      "source": [
        "list(range(5))"
      ],
      "metadata": {
        "colab": {
          "base_uri": "https://localhost:8080/"
        },
        "id": "xp76-FRPGvYL",
        "outputId": "5f1e3edd-f5b2-4875-b5b0-0a39fd223ac4"
      },
      "execution_count": null,
      "outputs": [
        {
          "output_type": "execute_result",
          "data": {
            "text/plain": [
              "[0, 1, 2, 3, 4]"
            ]
          },
          "metadata": {},
          "execution_count": 12
        }
      ]
    },
    {
      "cell_type": "code",
      "source": [
        "for i in range(-1, 3):\n",
        "  print(i)"
      ],
      "metadata": {
        "colab": {
          "base_uri": "https://localhost:8080/"
        },
        "id": "PyDWn_ftGxkF",
        "outputId": "7a5cf30c-a810-47a5-9118-867349e69be5"
      },
      "execution_count": null,
      "outputs": [
        {
          "output_type": "stream",
          "name": "stdout",
          "text": [
            "-1\n",
            "0\n",
            "1\n",
            "2\n"
          ]
        }
      ]
    },
    {
      "cell_type": "code",
      "source": [
        "for i in range(-9, -1): # first number should be less as per number line\n",
        "  print(i)"
      ],
      "metadata": {
        "colab": {
          "base_uri": "https://localhost:8080/"
        },
        "id": "kQSG-ymFG8cz",
        "outputId": "2eda5d40-c747-4a66-f84b-81668462a0dc"
      },
      "execution_count": null,
      "outputs": [
        {
          "output_type": "stream",
          "name": "stdout",
          "text": [
            "-9\n",
            "-8\n",
            "-7\n",
            "-6\n",
            "-5\n",
            "-4\n",
            "-3\n",
            "-2\n"
          ]
        }
      ]
    },
    {
      "cell_type": "code",
      "source": [
        "# jump\n",
        "\n",
        "list(range(0, 10, 3))"
      ],
      "metadata": {
        "colab": {
          "base_uri": "https://localhost:8080/"
        },
        "id": "XtXk06V6HC8d",
        "outputId": "488ad757-ddf5-4fb8-f673-308bdd61b965"
      },
      "execution_count": null,
      "outputs": [
        {
          "output_type": "execute_result",
          "data": {
            "text/plain": [
              "[0, 3, 6, 9]"
            ]
          },
          "metadata": {},
          "execution_count": 17
        }
      ]
    },
    {
      "cell_type": "code",
      "source": [
        "list(range(-1, -10, -2))"
      ],
      "metadata": {
        "colab": {
          "base_uri": "https://localhost:8080/"
        },
        "id": "W0vYdXhmICGu",
        "outputId": "faafc6f0-9c6e-463b-b64e-fdc4b00aedbd"
      },
      "execution_count": null,
      "outputs": [
        {
          "output_type": "execute_result",
          "data": {
            "text/plain": [
              "[-1, -3, -5, -7, -9]"
            ]
          },
          "metadata": {},
          "execution_count": 19
        }
      ]
    },
    {
      "cell_type": "code",
      "source": [
        "list(range(10, 1, -1))"
      ],
      "metadata": {
        "colab": {
          "base_uri": "https://localhost:8080/"
        },
        "id": "SNrHv9H8IJPl",
        "outputId": "66a1178f-81ba-4874-e1e9-cdee041ad1da"
      },
      "execution_count": null,
      "outputs": [
        {
          "output_type": "execute_result",
          "data": {
            "text/plain": [
              "[10, 9, 8, 7, 6, 5, 4, 3, 2]"
            ]
          },
          "metadata": {},
          "execution_count": 20
        }
      ]
    },
    {
      "cell_type": "code",
      "source": [
        "for i in range(1, 7, 2):\n",
        "  print(i)"
      ],
      "metadata": {
        "colab": {
          "base_uri": "https://localhost:8080/"
        },
        "id": "JLqt1mb_IXFd",
        "outputId": "d4f4aca0-46ff-42e1-8083-010689aa8088"
      },
      "execution_count": null,
      "outputs": [
        {
          "output_type": "stream",
          "name": "stdout",
          "text": [
            "1\n",
            "3\n",
            "5\n"
          ]
        }
      ]
    },
    {
      "cell_type": "code",
      "source": [
        "# Q.2-> Calculate sum of all numbers starting from 1 to N using a for loop.\n",
        "\n",
        "x = int(input(\"Enter number: \"))\n",
        "sum = 0\n",
        "for i in range(1, x+1):\n",
        "  sum+=i\n",
        "print(sum)\n",
        "\n"
      ],
      "metadata": {
        "colab": {
          "base_uri": "https://localhost:8080/"
        },
        "id": "uUmzDDkAIb-h",
        "outputId": "59afdee4-458a-436f-8ea1-0311d0639bd5"
      },
      "execution_count": null,
      "outputs": [
        {
          "output_type": "stream",
          "name": "stdout",
          "text": [
            "Enter number: 10\n",
            "55\n"
          ]
        }
      ]
    },
    {
      "cell_type": "code",
      "source": [
        "#Q.2-> Print all number from an input N to 1, where N>1\n",
        "\n",
        "x = int(input(\"Enter number: \"))\n",
        "for i in range(x, 0, -1):\n",
        "  print(i)\n",
        "\n"
      ],
      "metadata": {
        "colab": {
          "base_uri": "https://localhost:8080/"
        },
        "id": "9ThMiMXtJMeV",
        "outputId": "10543914-e520-461d-8582-fca4f865a2be"
      },
      "execution_count": null,
      "outputs": [
        {
          "output_type": "stream",
          "name": "stdout",
          "text": [
            "Enter number: 10\n",
            "10\n",
            "9\n",
            "8\n",
            "7\n",
            "6\n",
            "5\n",
            "4\n",
            "3\n",
            "2\n",
            "1\n"
          ]
        }
      ]
    },
    {
      "cell_type": "code",
      "source": [
        "#Q.3-> Print all numbers from an input N to 1, where N>1 using for loop,\n",
        "#without using negative jump\n",
        "\n",
        "x = int(input(\"Enter number: \"))\n",
        "for i in range(-x, 0):\n",
        "  print(-i)\n"
      ],
      "metadata": {
        "colab": {
          "base_uri": "https://localhost:8080/"
        },
        "id": "e_c-U-xJJ0gW",
        "outputId": "1752297d-7362-4c25-8573-e08173a925e8"
      },
      "execution_count": null,
      "outputs": [
        {
          "output_type": "stream",
          "name": "stdout",
          "text": [
            "Enter number: 10\n",
            "10\n",
            "9\n",
            "8\n",
            "7\n",
            "6\n",
            "5\n",
            "4\n",
            "3\n",
            "2\n",
            "1\n"
          ]
        }
      ]
    },
    {
      "cell_type": "code",
      "source": [
        "# find the odd position of the list\n",
        "\n",
        "runs = [45, 67, 89, 12, 34, 56, 100]\n",
        "runs[:: 2]"
      ],
      "metadata": {
        "id": "V3259lIzKYU2",
        "colab": {
          "base_uri": "https://localhost:8080/"
        },
        "outputId": "501a9078-9821-49f7-8708-2fc492a1dc91"
      },
      "execution_count": 7,
      "outputs": [
        {
          "output_type": "execute_result",
          "data": {
            "text/plain": [
              "[45, 89, 34, 100]"
            ]
          },
          "metadata": {},
          "execution_count": 7
        }
      ]
    },
    {
      "cell_type": "code",
      "source": [
        "# append\n",
        "\n",
        "runs.append(66)"
      ],
      "metadata": {
        "id": "oseJgj3zKZXj"
      },
      "execution_count": null,
      "outputs": []
    },
    {
      "cell_type": "code",
      "source": [
        "runs\n"
      ],
      "metadata": {
        "colab": {
          "base_uri": "https://localhost:8080/"
        },
        "id": "FIXjF5lPL8AE",
        "outputId": "8155faeb-79ea-4cb2-b2a9-ecf1b1c421c9"
      },
      "execution_count": null,
      "outputs": [
        {
          "output_type": "execute_result",
          "data": {
            "text/plain": [
              "[45, 67, 89, 12, 34, 56, 100, 66]"
            ]
          },
          "metadata": {},
          "execution_count": 7
        }
      ]
    },
    {
      "cell_type": "code",
      "source": [
        "# insert  -> provides index for append\n",
        "\n",
        "runs.insert(0, 25)\n",
        "runs"
      ],
      "metadata": {
        "colab": {
          "base_uri": "https://localhost:8080/"
        },
        "id": "VcQx3tIuL9-q",
        "outputId": "09e668e7-57f0-4663-f093-71b882527541"
      },
      "execution_count": null,
      "outputs": [
        {
          "output_type": "execute_result",
          "data": {
            "text/plain": [
              "[25, 45, 67, 89, 12, 34, 56, 100, 66]"
            ]
          },
          "metadata": {},
          "execution_count": 8
        }
      ]
    },
    {
      "cell_type": "code",
      "source": [
        "# extend\n",
        "\n",
        "# append  -> single value\n",
        "# insert  -> (index, value)\n",
        "# extend  -> list\n",
        "\n",
        "\n",
        "new_runs = [100, 76, 88]"
      ],
      "metadata": {
        "id": "wTohGxGWMDyE"
      },
      "execution_count": null,
      "outputs": []
    },
    {
      "cell_type": "code",
      "source": [
        "runs.extend(new_runs)\n",
        "runs.extend([11, 55])\n",
        "runs"
      ],
      "metadata": {
        "colab": {
          "base_uri": "https://localhost:8080/"
        },
        "id": "2-8QHw1aMXn-",
        "outputId": "bb523614-5045-47ee-bc12-c8d05c37ceb3"
      },
      "execution_count": null,
      "outputs": [
        {
          "output_type": "execute_result",
          "data": {
            "text/plain": [
              "[25,\n",
              " 45,\n",
              " 67,\n",
              " 89,\n",
              " 12,\n",
              " 34,\n",
              " 56,\n",
              " 100,\n",
              " 66,\n",
              " 100,\n",
              " 76,\n",
              " 88,\n",
              " 100,\n",
              " 76,\n",
              " 88,\n",
              " 100,\n",
              " 76,\n",
              " 88,\n",
              " 11,\n",
              " 55]"
            ]
          },
          "metadata": {},
          "execution_count": 12
        }
      ]
    },
    {
      "cell_type": "code",
      "source": [
        "for i in runs:\n",
        "  print(i, end=\" \")"
      ],
      "metadata": {
        "colab": {
          "base_uri": "https://localhost:8080/"
        },
        "id": "dYww8FuHMbVe",
        "outputId": "8f6e1837-df16-4de6-ab70-280a7cbc6e00"
      },
      "execution_count": null,
      "outputs": [
        {
          "output_type": "stream",
          "name": "stdout",
          "text": [
            "25 45 67 89 12 34 56 100 66 100 76 88 100 76 88 100 76 88 11 55 "
          ]
        }
      ]
    },
    {
      "cell_type": "code",
      "source": [
        "runs"
      ],
      "metadata": {
        "colab": {
          "base_uri": "https://localhost:8080/",
          "height": 146
        },
        "id": "W0fiNJv3N4AE",
        "outputId": "c7190f68-4851-4937-fc98-83701eb4e6d2"
      },
      "execution_count": 6,
      "outputs": [
        {
          "output_type": "error",
          "ename": "NameError",
          "evalue": "name 'runs' is not defined",
          "traceback": [
            "\u001b[0;31m---------------------------------------------------------------------------\u001b[0m",
            "\u001b[0;31mNameError\u001b[0m                                 Traceback (most recent call last)",
            "\u001b[0;32m<ipython-input-6-cbdc29b64e72>\u001b[0m in \u001b[0;36m<cell line: 1>\u001b[0;34m()\u001b[0m\n\u001b[0;32m----> 1\u001b[0;31m \u001b[0mruns\u001b[0m\u001b[0;34m\u001b[0m\u001b[0;34m\u001b[0m\u001b[0m\n\u001b[0m",
            "\u001b[0;31mNameError\u001b[0m: name 'runs' is not defined"
          ]
        }
      ]
    },
    {
      "cell_type": "code",
      "source": [
        "# average runs\n",
        "\n",
        "length=0\n",
        "sun=0\n",
        "for i in runs:\n",
        "  length=length+1\n",
        "  sun=sun+i\n",
        "\n",
        "#length\n",
        "sum"
      ],
      "metadata": {
        "colab": {
          "base_uri": "https://localhost:8080/"
        },
        "id": "SmeYvbsQOocH",
        "outputId": "bcd32f47-fcb7-49bb-a8a3-9e0d98aaab7c"
      },
      "execution_count": null,
      "outputs": [
        {
          "output_type": "execute_result",
          "data": {
            "text/plain": [
              "1352"
            ]
          },
          "metadata": {},
          "execution_count": 20
        }
      ]
    },
    {
      "cell_type": "code",
      "source": [
        "avg=sun/length\n",
        "avg"
      ],
      "metadata": {
        "colab": {
          "base_uri": "https://localhost:8080/"
        },
        "id": "8GrDS8aUPHoi",
        "outputId": "df73bb01-afb4-4ab7-d277-b9f031d438e6"
      },
      "execution_count": null,
      "outputs": [
        {
          "output_type": "execute_result",
          "data": {
            "text/plain": [
              "67.6"
            ]
          },
          "metadata": {},
          "execution_count": 21
        }
      ]
    },
    {
      "cell_type": "code",
      "source": [
        "# min runs\n",
        "\n",
        "min_runs=runs[0]\n",
        "for i in runs:\n",
        "  if i<min_runs:\n",
        "    min_runs=i\n",
        "min_runs\n"
      ],
      "metadata": {
        "colab": {
          "base_uri": "https://localhost:8080/"
        },
        "id": "lFFyxZBDPUrf",
        "outputId": "c2f0b74c-68a3-4509-8b0a-6daf47afc78f"
      },
      "execution_count": null,
      "outputs": [
        {
          "output_type": "execute_result",
          "data": {
            "text/plain": [
              "11"
            ]
          },
          "metadata": {},
          "execution_count": 23
        }
      ]
    },
    {
      "cell_type": "code",
      "source": [
        "# max_runs\n",
        "\n",
        "max_runs=runs[0]\n",
        "for i in runs:\n",
        "  if i>max_runs:\n",
        "    max_runs=i\n",
        "max_runs\n"
      ],
      "metadata": {
        "colab": {
          "base_uri": "https://localhost:8080/"
        },
        "id": "CDElx5drP9pk",
        "outputId": "39bb09d8-b26f-4fd6-b52a-eb295b98be1d"
      },
      "execution_count": null,
      "outputs": [
        {
          "output_type": "execute_result",
          "data": {
            "text/plain": [
              "100"
            ]
          },
          "metadata": {},
          "execution_count": 25
        }
      ]
    },
    {
      "cell_type": "code",
      "source": [
        "sum([runs])/len([runs])"
      ],
      "metadata": {
        "colab": {
          "base_uri": "https://localhost:8080/",
          "height": 146
        },
        "id": "6HHCk3ybRJQV",
        "outputId": "853b2196-fe2e-42d1-93d1-7ef987b5cd74"
      },
      "execution_count": 8,
      "outputs": [
        {
          "output_type": "error",
          "ename": "TypeError",
          "evalue": "unsupported operand type(s) for +: 'int' and 'list'",
          "traceback": [
            "\u001b[0;31m---------------------------------------------------------------------------\u001b[0m",
            "\u001b[0;31mTypeError\u001b[0m                                 Traceback (most recent call last)",
            "\u001b[0;32m<ipython-input-8-77416ddfb510>\u001b[0m in \u001b[0;36m<cell line: 1>\u001b[0;34m()\u001b[0m\n\u001b[0;32m----> 1\u001b[0;31m \u001b[0msum\u001b[0m\u001b[0;34m(\u001b[0m\u001b[0;34m[\u001b[0m\u001b[0mruns\u001b[0m\u001b[0;34m]\u001b[0m\u001b[0;34m)\u001b[0m\u001b[0;34m/\u001b[0m\u001b[0mlen\u001b[0m\u001b[0;34m(\u001b[0m\u001b[0;34m[\u001b[0m\u001b[0mruns\u001b[0m\u001b[0;34m]\u001b[0m\u001b[0;34m)\u001b[0m\u001b[0;34m\u001b[0m\u001b[0;34m\u001b[0m\u001b[0m\n\u001b[0m",
            "\u001b[0;31mTypeError\u001b[0m: unsupported operand type(s) for +: 'int' and 'list'"
          ]
        }
      ]
    },
    {
      "cell_type": "code",
      "source": [
        "min(runs)"
      ],
      "metadata": {
        "colab": {
          "base_uri": "https://localhost:8080/"
        },
        "id": "Ztl1JggRSWDV",
        "outputId": "7d79646b-874e-4dfb-8767-38efafe7693d"
      },
      "execution_count": null,
      "outputs": [
        {
          "output_type": "execute_result",
          "data": {
            "text/plain": [
              "11"
            ]
          },
          "metadata": {},
          "execution_count": 33
        }
      ]
    },
    {
      "cell_type": "code",
      "source": [
        "max(runs)"
      ],
      "metadata": {
        "colab": {
          "base_uri": "https://localhost:8080/"
        },
        "id": "Y3vrybfiSxGJ",
        "outputId": "ab0e3c5a-f5ef-4c1c-e10c-9dd1b14203a1"
      },
      "execution_count": null,
      "outputs": [
        {
          "output_type": "execute_result",
          "data": {
            "text/plain": [
              "100"
            ]
          },
          "metadata": {},
          "execution_count": 34
        }
      ]
    },
    {
      "cell_type": "code",
      "source": [
        "a = [10, 20, 30, 40]"
      ],
      "metadata": {
        "id": "Gk2CWBP4Sy5N"
      },
      "execution_count": null,
      "outputs": []
    },
    {
      "cell_type": "code",
      "source": [
        "list(range(len(a)))"
      ],
      "metadata": {
        "colab": {
          "base_uri": "https://localhost:8080/"
        },
        "id": "82ZVaMSzTkRJ",
        "outputId": "2db84ebb-7ccf-4f51-929e-3c271ddc78b7"
      },
      "execution_count": null,
      "outputs": [
        {
          "output_type": "execute_result",
          "data": {
            "text/plain": [
              "[0, 1, 2, 3]"
            ]
          },
          "metadata": {},
          "execution_count": 37
        }
      ]
    },
    {
      "cell_type": "code",
      "source": [
        "# Calculate the sum of runs made by Virat Kohli in all the matches with even index\n",
        "for i in runs:\n",
        "  print(i)"
      ],
      "metadata": {
        "colab": {
          "base_uri": "https://localhost:8080/"
        },
        "id": "uzytpyYVTmI2",
        "outputId": "14ce662a-9ba1-46fb-b87a-b53e44cc0706"
      },
      "execution_count": null,
      "outputs": [
        {
          "output_type": "stream",
          "name": "stdout",
          "text": [
            "25\n",
            "45\n",
            "67\n",
            "89\n",
            "12\n",
            "34\n",
            "56\n",
            "100\n",
            "66\n",
            "100\n",
            "76\n",
            "88\n",
            "100\n",
            "76\n",
            "88\n",
            "100\n",
            "76\n",
            "88\n",
            "11\n",
            "55\n"
          ]
        }
      ]
    },
    {
      "cell_type": "code",
      "source": [
        "for i in range(len(runs)):\n",
        "  print(i)"
      ],
      "metadata": {
        "colab": {
          "base_uri": "https://localhost:8080/"
        },
        "id": "14JbShT3T2qo",
        "outputId": "3389fe35-19b2-42f8-c849-269af0082573"
      },
      "execution_count": null,
      "outputs": [
        {
          "output_type": "stream",
          "name": "stdout",
          "text": [
            "0\n",
            "1\n",
            "2\n",
            "3\n",
            "4\n",
            "5\n",
            "6\n",
            "7\n",
            "8\n",
            "9\n",
            "10\n",
            "11\n",
            "12\n",
            "13\n",
            "14\n",
            "15\n",
            "16\n",
            "17\n",
            "18\n",
            "19\n"
          ]
        }
      ]
    },
    {
      "cell_type": "code",
      "source": [
        "# Calculate the sum of runs made by Virat Kohli in all the matches with even index\n",
        "\n",
        "\n",
        "sum_even=0\n",
        "for i in range(len(runs)):\n",
        "  if i%2==0:\n",
        "    sum_even+=runs[i]\n",
        "sum_even"
      ],
      "metadata": {
        "colab": {
          "base_uri": "https://localhost:8080/"
        },
        "id": "ERfM9TzKT8Fy",
        "outputId": "41c2adf6-f84f-4a3c-d43e-60cd6b12fd2e"
      },
      "execution_count": null,
      "outputs": [
        {
          "output_type": "execute_result",
          "data": {
            "text/plain": [
              "577"
            ]
          },
          "metadata": {},
          "execution_count": 42
        }
      ]
    },
    {
      "cell_type": "code",
      "source": [
        "# Quiz\n",
        "\n",
        "my_list=[10,20,30,40,50]\n",
        "i=0\n",
        "while i < len(my_list):\n",
        "  my_list[i] *= 2\n",
        "  i=+1\n",
        "print(my_list)"
      ],
      "metadata": {
        "id": "vpS1WcwuUkdV"
      },
      "execution_count": null,
      "outputs": []
    },
    {
      "cell_type": "code",
      "source": [
        "a = [10,20,30,40,50,60,70,80]"
      ],
      "metadata": {
        "id": "ie96Q1CTVY6f"
      },
      "execution_count": 1,
      "outputs": []
    },
    {
      "cell_type": "code",
      "source": [
        "a[7:1:-1]"
      ],
      "metadata": {
        "colab": {
          "base_uri": "https://localhost:8080/"
        },
        "id": "efRFySv2nYlf",
        "outputId": "abaac094-4173-4905-d2bc-d16d9ddb460c"
      },
      "execution_count": 3,
      "outputs": [
        {
          "output_type": "execute_result",
          "data": {
            "text/plain": [
              "[80, 70, 60, 50, 40, 30]"
            ]
          },
          "metadata": {},
          "execution_count": 3
        }
      ]
    },
    {
      "cell_type": "code",
      "source": [
        "a[::]"
      ],
      "metadata": {
        "colab": {
          "base_uri": "https://localhost:8080/"
        },
        "id": "VilDtw-pnaMi",
        "outputId": "898a21fd-3c06-40fa-c2c9-34c44ff1a627"
      },
      "execution_count": 29,
      "outputs": [
        {
          "output_type": "execute_result",
          "data": {
            "text/plain": [
              "[10, 20, 30, 40, 50, 60, 70, 80]"
            ]
          },
          "metadata": {},
          "execution_count": 29
        }
      ]
    },
    {
      "cell_type": "code",
      "source": [
        "a[::-1]"
      ],
      "metadata": {
        "colab": {
          "base_uri": "https://localhost:8080/"
        },
        "id": "ualobopPnpVV",
        "outputId": "ed219cbc-500a-45cd-8b05-3e5b86f608f4"
      },
      "execution_count": 5,
      "outputs": [
        {
          "output_type": "execute_result",
          "data": {
            "text/plain": [
              "[80, 70, 60, 50, 40, 30, 20, 10]"
            ]
          },
          "metadata": {},
          "execution_count": 5
        }
      ]
    },
    {
      "cell_type": "code",
      "source": [
        "runs"
      ],
      "metadata": {
        "colab": {
          "base_uri": "https://localhost:8080/"
        },
        "id": "BDAV9miFnssj",
        "outputId": "51b1e94e-cbad-46a7-c82d-5872d40b5ad3"
      },
      "execution_count": 9,
      "outputs": [
        {
          "output_type": "execute_result",
          "data": {
            "text/plain": [
              "[45, 67, 89, 12, 34, 56, 100]"
            ]
          },
          "metadata": {},
          "execution_count": 9
        }
      ]
    },
    {
      "cell_type": "code",
      "source": [
        "# runs made in last 5 matches\n",
        "\n",
        "result= []\n",
        "for i in range(1,6):\n",
        "  result.append(runs[-i])\n",
        ""
      ],
      "metadata": {
        "id": "xVkU2olAoA4o"
      },
      "execution_count": 21,
      "outputs": []
    },
    {
      "cell_type": "code",
      "source": [
        "result"
      ],
      "metadata": {
        "colab": {
          "base_uri": "https://localhost:8080/"
        },
        "id": "NqzNcf7CoJH6",
        "outputId": "8491281b-8dbe-45a2-f242-ce8519cd575b"
      },
      "execution_count": 22,
      "outputs": [
        {
          "output_type": "execute_result",
          "data": {
            "text/plain": [
              "[100, 56, 34, 12, 89]"
            ]
          },
          "metadata": {},
          "execution_count": 22
        }
      ]
    },
    {
      "cell_type": "code",
      "source": [
        "# runs made in odd index matches  (for)\n",
        "\n",
        "\n",
        "# odd = []\n",
        "# for i in range(len(runs)):\n",
        "#   if i%2!=0:\n",
        "#     odd.append(runs[i])\n",
        "\n",
        "odd = []\n",
        "for i in range(0, len(runs), 2):\n",
        "  odd.append(runs[i])"
      ],
      "metadata": {
        "id": "YKuvLa_SotwP"
      },
      "execution_count": 30,
      "outputs": []
    },
    {
      "cell_type": "code",
      "source": [
        "odd\n"
      ],
      "metadata": {
        "colab": {
          "base_uri": "https://localhost:8080/"
        },
        "id": "UHma_he6pwo2",
        "outputId": "5d8c829f-b674-42cb-f5b8-40556ad524f2"
      },
      "execution_count": 31,
      "outputs": [
        {
          "output_type": "execute_result",
          "data": {
            "text/plain": [
              "[45, 89, 34, 100]"
            ]
          },
          "metadata": {},
          "execution_count": 31
        }
      ]
    },
    {
      "cell_type": "code",
      "source": [
        "runs = [62,85,74,10,12,101,122,99,81,55]"
      ],
      "metadata": {
        "id": "L0q02d3Qpx9r"
      },
      "execution_count": 32,
      "outputs": []
    },
    {
      "cell_type": "code",
      "source": [
        "# reverse list\n",
        "\n",
        "runs[::-1]"
      ],
      "metadata": {
        "colab": {
          "base_uri": "https://localhost:8080/"
        },
        "id": "5XHzo96rqqeY",
        "outputId": "e1ba0d79-7041-47a0-ba8e-838a05f564f9"
      },
      "execution_count": 33,
      "outputs": [
        {
          "output_type": "execute_result",
          "data": {
            "text/plain": [
              "[55, 81, 99, 122, 101, 12, 10, 74, 85, 62]"
            ]
          },
          "metadata": {},
          "execution_count": 33
        }
      ]
    },
    {
      "cell_type": "code",
      "source": [
        "runs[-8:-5:-1]"
      ],
      "metadata": {
        "colab": {
          "base_uri": "https://localhost:8080/"
        },
        "id": "hLjvoKA9q9eM",
        "outputId": "d36d4801-62f8-43c0-d7fa-a32da8fee50c"
      },
      "execution_count": 34,
      "outputs": [
        {
          "output_type": "execute_result",
          "data": {
            "text/plain": [
              "[]"
            ]
          },
          "metadata": {},
          "execution_count": 34
        }
      ]
    },
    {
      "cell_type": "code",
      "source": [
        "runs[-8:-5:1]"
      ],
      "metadata": {
        "colab": {
          "base_uri": "https://localhost:8080/"
        },
        "id": "kiW4mCfhtheD",
        "outputId": "080f74b0-d72e-4ccf-a223-3f6f3a3e11c9"
      },
      "execution_count": 35,
      "outputs": [
        {
          "output_type": "execute_result",
          "data": {
            "text/plain": [
              "[74, 10, 12]"
            ]
          },
          "metadata": {},
          "execution_count": 35
        }
      ]
    },
    {
      "cell_type": "code",
      "source": [
        "# rotate a list by 1 element (last element should be removed and added in the start)\n",
        "# create a new list\n",
        "\n",
        "p = [1,2,3,4,5]\n"
      ],
      "metadata": {
        "id": "hcKPNxP2tkPC"
      },
      "execution_count": 36,
      "outputs": []
    },
    {
      "cell_type": "code",
      "source": [
        "ele = p[-1]\n"
      ],
      "metadata": {
        "id": "sjp9MvdJuMhX"
      },
      "execution_count": 44,
      "outputs": []
    },
    {
      "cell_type": "code",
      "source": [
        "ele"
      ],
      "metadata": {
        "colab": {
          "base_uri": "https://localhost:8080/"
        },
        "id": "Q-Cs_tjBuSym",
        "outputId": "8947a89b-3b25-4dd4-81e2-ead16d18003c"
      },
      "execution_count": 45,
      "outputs": [
        {
          "output_type": "execute_result",
          "data": {
            "text/plain": [
              "5"
            ]
          },
          "metadata": {},
          "execution_count": 45
        }
      ]
    },
    {
      "cell_type": "code",
      "source": [
        "res = p[:len(p)-1]\n"
      ],
      "metadata": {
        "id": "kapu0ss4uf5x"
      },
      "execution_count": 46,
      "outputs": []
    },
    {
      "cell_type": "code",
      "source": [
        "res\n"
      ],
      "metadata": {
        "colab": {
          "base_uri": "https://localhost:8080/"
        },
        "id": "ZHhzlUxfu44r",
        "outputId": "8a8bf28f-56ea-48d1-fe19-8e107e1fa6b6"
      },
      "execution_count": 47,
      "outputs": [
        {
          "output_type": "execute_result",
          "data": {
            "text/plain": [
              "[1, 2, 3, 4]"
            ]
          },
          "metadata": {},
          "execution_count": 47
        }
      ]
    },
    {
      "cell_type": "code",
      "source": [
        "liss = [ele]+res"
      ],
      "metadata": {
        "id": "_ESNqfdxu5we"
      },
      "execution_count": 49,
      "outputs": []
    },
    {
      "cell_type": "code",
      "source": [
        "liss"
      ],
      "metadata": {
        "colab": {
          "base_uri": "https://localhost:8080/"
        },
        "id": "08KZwOgwvACB",
        "outputId": "12d9044b-510d-4942-a760-8863f60eaab8"
      },
      "execution_count": 50,
      "outputs": [
        {
          "output_type": "execute_result",
          "data": {
            "text/plain": [
              "[5, 1, 2, 3, 4]"
            ]
          },
          "metadata": {},
          "execution_count": 50
        }
      ]
    },
    {
      "cell_type": "code",
      "source": [
        "elem=p.pop()    # -> method 2"
      ],
      "metadata": {
        "id": "1nIkiy7bvGxl"
      },
      "execution_count": 51,
      "outputs": []
    },
    {
      "cell_type": "code",
      "source": [
        "elem"
      ],
      "metadata": {
        "colab": {
          "base_uri": "https://localhost:8080/"
        },
        "id": "gFLzkFT_vb9B",
        "outputId": "b3c84fa2-aa47-4620-cdaa-aadf8fa4d175"
      },
      "execution_count": 52,
      "outputs": [
        {
          "output_type": "execute_result",
          "data": {
            "text/plain": [
              "5"
            ]
          },
          "metadata": {},
          "execution_count": 52
        }
      ]
    },
    {
      "cell_type": "code",
      "source": [
        "liss"
      ],
      "metadata": {
        "colab": {
          "base_uri": "https://localhost:8080/"
        },
        "id": "cOHIhERjvctj",
        "outputId": "66f77ec6-fde8-4061-acf1-56608976641e"
      },
      "execution_count": 54,
      "outputs": [
        {
          "output_type": "execute_result",
          "data": {
            "text/plain": [
              "[5, 1, 2, 3, 4]"
            ]
          },
          "metadata": {},
          "execution_count": 54
        }
      ]
    },
    {
      "cell_type": "code",
      "source": [
        "[elem]+res"
      ],
      "metadata": {
        "colab": {
          "base_uri": "https://localhost:8080/"
        },
        "id": "F9gPXHmevfed",
        "outputId": "14fc6a91-3dbc-43b3-df07-55928e8e7439"
      },
      "execution_count": 56,
      "outputs": [
        {
          "output_type": "execute_result",
          "data": {
            "text/plain": [
              "[5, 1, 2, 3, 4]"
            ]
          },
          "metadata": {},
          "execution_count": 56
        }
      ]
    },
    {
      "cell_type": "code",
      "source": [
        "a\n"
      ],
      "metadata": {
        "colab": {
          "base_uri": "https://localhost:8080/"
        },
        "id": "QFgQ3O8rvml9",
        "outputId": "d094bf12-a525-43b4-e216-b75eae832e80"
      },
      "execution_count": 57,
      "outputs": [
        {
          "output_type": "execute_result",
          "data": {
            "text/plain": [
              "[10, 20, 30, 40, 50, 60, 70, 80]"
            ]
          },
          "metadata": {},
          "execution_count": 57
        }
      ]
    },
    {
      "cell_type": "code",
      "source": [
        "a.pop(5)"
      ],
      "metadata": {
        "colab": {
          "base_uri": "https://localhost:8080/"
        },
        "id": "a-33LdiRvzXP",
        "outputId": "3edf2b5a-55f7-4597-d49f-154fe83f3ad6"
      },
      "execution_count": 58,
      "outputs": [
        {
          "output_type": "execute_result",
          "data": {
            "text/plain": [
              "60"
            ]
          },
          "metadata": {},
          "execution_count": 58
        }
      ]
    },
    {
      "cell_type": "code",
      "source": [
        "a\n"
      ],
      "metadata": {
        "colab": {
          "base_uri": "https://localhost:8080/"
        },
        "id": "ZVqf5pSVv0sL",
        "outputId": "9ecea127-620f-4c72-86e4-03af46be670a"
      },
      "execution_count": 59,
      "outputs": [
        {
          "output_type": "execute_result",
          "data": {
            "text/plain": [
              "[10, 20, 30, 40, 50, 70, 80]"
            ]
          },
          "metadata": {},
          "execution_count": 59
        }
      ]
    },
    {
      "cell_type": "code",
      "source": [
        "a.index(40)"
      ],
      "metadata": {
        "colab": {
          "base_uri": "https://localhost:8080/"
        },
        "id": "lD3Yr2qvv-eB",
        "outputId": "986640d6-5e99-4f34-dcb9-d3ea15852c10"
      },
      "execution_count": 60,
      "outputs": [
        {
          "output_type": "execute_result",
          "data": {
            "text/plain": [
              "3"
            ]
          },
          "metadata": {},
          "execution_count": 60
        }
      ]
    },
    {
      "cell_type": "code",
      "source": [
        "for i in range(0,len(a)):\n",
        "  print(\"Index:\",i)\n",
        "  print(\"Value:\",a[i])\n",
        "\n",
        "\n",
        "\n",
        "# reverse order\n",
        "# for i in range(-1,0,-1):\n",
        "#   print(\"Index:\",i)\n",
        "#   print(\"Value:\",a[i])\n"
      ],
      "metadata": {
        "colab": {
          "base_uri": "https://localhost:8080/"
        },
        "id": "Mgub6lvJxpFw",
        "outputId": "a436ed20-7b1e-492c-b379-e88754dcc206"
      },
      "execution_count": 61,
      "outputs": [
        {
          "output_type": "stream",
          "name": "stdout",
          "text": [
            "Index: 0\n",
            "Value: 10\n",
            "Index: 1\n",
            "Value: 20\n",
            "Index: 2\n",
            "Value: 30\n",
            "Index: 3\n",
            "Value: 40\n",
            "Index: 4\n",
            "Value: 50\n",
            "Index: 5\n",
            "Value: 70\n",
            "Index: 6\n",
            "Value: 80\n"
          ]
        }
      ]
    },
    {
      "cell_type": "code",
      "source": [
        "a\n"
      ],
      "metadata": {
        "colab": {
          "base_uri": "https://localhost:8080/"
        },
        "id": "HZZTG-RAx_ka",
        "outputId": "3b8b77ca-cb0f-4f17-e16d-74a89763bff8"
      },
      "execution_count": 62,
      "outputs": [
        {
          "output_type": "execute_result",
          "data": {
            "text/plain": [
              "[10, 20, 30, 40, 50, 70, 80]"
            ]
          },
          "metadata": {},
          "execution_count": 62
        }
      ]
    },
    {
      "cell_type": "code",
      "source": [
        "b= list(reversed(a))"
      ],
      "metadata": {
        "id": "pGowcB96zLc6"
      },
      "execution_count": 63,
      "outputs": []
    },
    {
      "cell_type": "code",
      "source": [
        "b"
      ],
      "metadata": {
        "colab": {
          "base_uri": "https://localhost:8080/"
        },
        "id": "_d77ZBuWzP5N",
        "outputId": "647d5d06-288c-4620-add9-9c7c658a47be"
      },
      "execution_count": 64,
      "outputs": [
        {
          "output_type": "execute_result",
          "data": {
            "text/plain": [
              "[80, 70, 50, 40, 30, 20, 10]"
            ]
          },
          "metadata": {},
          "execution_count": 64
        }
      ]
    },
    {
      "cell_type": "code",
      "source": [
        "a.reverse()"
      ],
      "metadata": {
        "id": "d0IfR5F_zQ_0"
      },
      "execution_count": 65,
      "outputs": []
    },
    {
      "cell_type": "code",
      "source": [
        "a\n"
      ],
      "metadata": {
        "colab": {
          "base_uri": "https://localhost:8080/"
        },
        "id": "L3-9UqWozWWG",
        "outputId": "205ffdc9-3341-445e-8841-145de202f583"
      },
      "execution_count": 66,
      "outputs": [
        {
          "output_type": "execute_result",
          "data": {
            "text/plain": [
              "[80, 70, 50, 40, 30, 20, 10]"
            ]
          },
          "metadata": {},
          "execution_count": 66
        }
      ]
    },
    {
      "cell_type": "code",
      "source": [
        "\n",
        "# 2D list/array\n",
        "\n",
        "m = [10,20,30,[1,2,3,4]]"
      ],
      "metadata": {
        "id": "A8kEGgDhzXnq"
      },
      "execution_count": 67,
      "outputs": []
    },
    {
      "cell_type": "code",
      "source": [
        "m"
      ],
      "metadata": {
        "colab": {
          "base_uri": "https://localhost:8080/"
        },
        "id": "MZgUjXc50GKl",
        "outputId": "3da09ba2-729a-4ee0-d8c5-d9e551ca2e6f"
      },
      "execution_count": 68,
      "outputs": [
        {
          "output_type": "execute_result",
          "data": {
            "text/plain": [
              "[10, 20, 30, [1, 2, 3, 4]]"
            ]
          },
          "metadata": {},
          "execution_count": 68
        }
      ]
    },
    {
      "cell_type": "code",
      "source": [
        "len(m)"
      ],
      "metadata": {
        "colab": {
          "base_uri": "https://localhost:8080/"
        },
        "id": "1ujZuN7H0Go6",
        "outputId": "b6aabfbf-81f8-48d4-8630-747e214bff2f"
      },
      "execution_count": 69,
      "outputs": [
        {
          "output_type": "execute_result",
          "data": {
            "text/plain": [
              "4"
            ]
          },
          "metadata": {},
          "execution_count": 69
        }
      ]
    },
    {
      "cell_type": "code",
      "source": [
        "m[3]"
      ],
      "metadata": {
        "colab": {
          "base_uri": "https://localhost:8080/"
        },
        "id": "YmbT3o8m0Im4",
        "outputId": "6c10aa1c-d855-4e03-ead1-968d99bd7d44"
      },
      "execution_count": 70,
      "outputs": [
        {
          "output_type": "execute_result",
          "data": {
            "text/plain": [
              "[1, 2, 3, 4]"
            ]
          },
          "metadata": {},
          "execution_count": 70
        }
      ]
    },
    {
      "cell_type": "code",
      "source": [
        "m[3][2]"
      ],
      "metadata": {
        "colab": {
          "base_uri": "https://localhost:8080/"
        },
        "id": "YXlGt1Eh0MAW",
        "outputId": "86b4fb2a-a3f6-418f-905b-e53936f90145"
      },
      "execution_count": 72,
      "outputs": [
        {
          "output_type": "execute_result",
          "data": {
            "text/plain": [
              "3"
            ]
          },
          "metadata": {},
          "execution_count": 72
        }
      ]
    },
    {
      "cell_type": "code",
      "source": [
        "a = [[10,20,30], [40,50,60], [70,80,90]]"
      ],
      "metadata": {
        "id": "MjEnkGPQ0QdQ"
      },
      "execution_count": 73,
      "outputs": []
    },
    {
      "cell_type": "code",
      "source": [
        "a"
      ],
      "metadata": {
        "colab": {
          "base_uri": "https://localhost:8080/"
        },
        "id": "RC-arVnR0mvk",
        "outputId": "f649ccca-83fb-41ed-add8-3106bf51f764"
      },
      "execution_count": 74,
      "outputs": [
        {
          "output_type": "execute_result",
          "data": {
            "text/plain": [
              "[[10, 20, 30], [40, 50, 60], [70, 80, 90]]"
            ]
          },
          "metadata": {},
          "execution_count": 74
        }
      ]
    },
    {
      "cell_type": "code",
      "source": [
        "a[2][0]"
      ],
      "metadata": {
        "colab": {
          "base_uri": "https://localhost:8080/"
        },
        "id": "23-ndz1X0nZW",
        "outputId": "bcf78cea-d4bc-4796-b1c6-7f5178f20cdf"
      },
      "execution_count": 75,
      "outputs": [
        {
          "output_type": "execute_result",
          "data": {
            "text/plain": [
              "70"
            ]
          },
          "metadata": {},
          "execution_count": 75
        }
      ]
    },
    {
      "cell_type": "code",
      "source": [
        "a[2][-1]"
      ],
      "metadata": {
        "colab": {
          "base_uri": "https://localhost:8080/"
        },
        "id": "2JxagC_V1_Mt",
        "outputId": "abf99c19-21be-485a-b5dc-0f745148ae02"
      },
      "execution_count": 76,
      "outputs": [
        {
          "output_type": "execute_result",
          "data": {
            "text/plain": [
              "90"
            ]
          },
          "metadata": {},
          "execution_count": 76
        }
      ]
    },
    {
      "cell_type": "code",
      "source": [
        "a = [[10,20,30,5], [40,50,60,6], [70,80,90,7]]"
      ],
      "metadata": {
        "id": "xCxle61j2D8w"
      },
      "execution_count": 77,
      "outputs": []
    },
    {
      "cell_type": "code",
      "source": [
        "# iterate over a 2D matrix\n",
        "\n",
        "for i in a:\n",
        "  print(i)\n"
      ],
      "metadata": {
        "colab": {
          "base_uri": "https://localhost:8080/"
        },
        "id": "6ACG6jBm2ph0",
        "outputId": "e27b6d6d-7159-4dd4-92d5-3e0848a5e59b"
      },
      "execution_count": 79,
      "outputs": [
        {
          "output_type": "stream",
          "name": "stdout",
          "text": [
            "[10, 20, 30, 5]\n",
            "[40, 50, 60, 6]\n",
            "[70, 80, 90, 7]\n"
          ]
        }
      ]
    },
    {
      "cell_type": "code",
      "source": [
        "for i in a:\n",
        "  for j in i:\n",
        "    print(j, end=\" \")\n",
        "  print()"
      ],
      "metadata": {
        "colab": {
          "base_uri": "https://localhost:8080/"
        },
        "id": "9FgdCdF920U3",
        "outputId": "c8685484-6563-4f30-f541-a15ee71a4891"
      },
      "execution_count": 81,
      "outputs": [
        {
          "output_type": "stream",
          "name": "stdout",
          "text": [
            "10 20 30 5 \n",
            "40 50 60 6 \n",
            "70 80 90 7 \n"
          ]
        }
      ]
    },
    {
      "cell_type": "code",
      "source": [
        "a = [[10,20,30,5,7], [40,50,60,6], [70,80,90,7]]"
      ],
      "metadata": {
        "id": "SiZAuyv13Le5"
      },
      "execution_count": 83,
      "outputs": []
    },
    {
      "cell_type": "code",
      "source": [
        "for i in a:\n",
        "  for j in i:\n",
        "    print(j, end=\" \")\n",
        "  print()"
      ],
      "metadata": {
        "colab": {
          "base_uri": "https://localhost:8080/"
        },
        "id": "q7LUxTqp3gR6",
        "outputId": "92859772-efbb-41e2-a706-029c61e62a7f"
      },
      "execution_count": 84,
      "outputs": [
        {
          "output_type": "stream",
          "name": "stdout",
          "text": [
            "10 20 30 5 7 \n",
            "40 50 60 6 \n",
            "70 80 90 7 \n"
          ]
        }
      ]
    },
    {
      "cell_type": "code",
      "source": [
        "a = [[10,20,30,5,], [40,50,60,6], [70,80,90,7]]"
      ],
      "metadata": {
        "id": "reItNy-U3j5h"
      },
      "execution_count": 85,
      "outputs": []
    },
    {
      "cell_type": "code",
      "source": [
        "rows=len(a)"
      ],
      "metadata": {
        "id": "UWREd9ZV31fE"
      },
      "execution_count": 87,
      "outputs": []
    },
    {
      "cell_type": "code",
      "source": [
        "rows"
      ],
      "metadata": {
        "colab": {
          "base_uri": "https://localhost:8080/"
        },
        "id": "xnmma3LX35jl",
        "outputId": "af671366-f775-4915-c19d-cc8eccb0ecec"
      },
      "execution_count": 88,
      "outputs": [
        {
          "output_type": "execute_result",
          "data": {
            "text/plain": [
              "3"
            ]
          },
          "metadata": {},
          "execution_count": 88
        }
      ]
    },
    {
      "cell_type": "code",
      "source": [
        "cols=len(a[0])"
      ],
      "metadata": {
        "id": "mA1cbZhq39UC"
      },
      "execution_count": 89,
      "outputs": []
    },
    {
      "cell_type": "code",
      "source": [
        "cols"
      ],
      "metadata": {
        "colab": {
          "base_uri": "https://localhost:8080/"
        },
        "id": "W9mH7rzf4DX3",
        "outputId": "0df6b199-9b80-40a4-d38c-98416cc70857"
      },
      "execution_count": 90,
      "outputs": [
        {
          "output_type": "execute_result",
          "data": {
            "text/plain": [
              "4"
            ]
          },
          "metadata": {},
          "execution_count": 90
        }
      ]
    },
    {
      "cell_type": "code",
      "source": [
        "for i in range(rows):\n",
        "  for j in range(cols):\n",
        "    print(a[i][j], end=\" \")\n",
        "  print()"
      ],
      "metadata": {
        "colab": {
          "base_uri": "https://localhost:8080/"
        },
        "id": "obmwEuhM4ECq",
        "outputId": "fb8470dc-5228-484b-f2db-bb6a92e4411f"
      },
      "execution_count": 92,
      "outputs": [
        {
          "output_type": "stream",
          "name": "stdout",
          "text": [
            "10 20 30 5 \n",
            "40 50 60 6 \n",
            "70 80 90 7 \n"
          ]
        }
      ]
    },
    {
      "cell_type": "code",
      "source": [
        "random = [[1,2,3],[\"a\",\"b\",\"c\",\"d\",\"e\"],[4.5,6.7]]"
      ],
      "metadata": {
        "id": "hG_LKEyT4ZiY"
      },
      "execution_count": 93,
      "outputs": []
    },
    {
      "cell_type": "code",
      "source": [
        "for i in random:\n",
        "  for j in i:\n",
        "    print(j, end=\" \")\n",
        "  print()"
      ],
      "metadata": {
        "colab": {
          "base_uri": "https://localhost:8080/"
        },
        "id": "PZlUdeii5Q4V",
        "outputId": "ccd5d36b-6dd5-45ee-956a-61724e17b1cf"
      },
      "execution_count": 94,
      "outputs": [
        {
          "output_type": "stream",
          "name": "stdout",
          "text": [
            "1 2 3 \n",
            "a b c d e \n",
            "4.5 6.7 \n"
          ]
        }
      ]
    },
    {
      "cell_type": "code",
      "source": [
        "#Q-> Take a 3x3 matrix as an input from user.\n",
        "# Calculate sum of all given all elements in the matrix\n",
        "\n",
        "\n"
      ],
      "metadata": {
        "id": "GP7w1rdd5hB3"
      },
      "execution_count": 95,
      "outputs": []
    },
    {
      "cell_type": "code",
      "source": [
        "a = [[10, 20, 30], [40, 50, 60], [70, 80, 90]]"
      ],
      "metadata": {
        "id": "BFf4rYGP6L_d"
      },
      "execution_count": 97,
      "outputs": []
    },
    {
      "cell_type": "code",
      "source": [
        "# Input\n",
        "a=[]\n",
        "for i in range(3):\n",
        "  inner=[]\n",
        "  for j in range(3):\n",
        "    inner.append(int(input()))\n",
        "  a.append(inner)"
      ],
      "metadata": {
        "colab": {
          "base_uri": "https://localhost:8080/"
        },
        "id": "eFCUK8qq6MbF",
        "outputId": "d4adec40-c555-4730-d95c-abf70a895e18"
      },
      "execution_count": 98,
      "outputs": [
        {
          "name": "stdout",
          "output_type": "stream",
          "text": [
            "1\n",
            "2\n",
            "3\n",
            "4\n",
            "5\n",
            "6\n",
            "7\n",
            "8\n",
            "9\n"
          ]
        }
      ]
    },
    {
      "cell_type": "code",
      "source": [
        "# sum of all element\n",
        "\n",
        "sum_all=0\n",
        "for i in a:\n",
        "  for j in i:\n",
        "    sum_all=sum_all+j"
      ],
      "metadata": {
        "id": "nMPnt8m_9llU"
      },
      "execution_count": 99,
      "outputs": []
    },
    {
      "cell_type": "code",
      "source": [
        "sum_all"
      ],
      "metadata": {
        "colab": {
          "base_uri": "https://localhost:8080/"
        },
        "id": "BgjCoP3q9tB-",
        "outputId": "74e59e88-989b-4623-c2a8-8f451830e68c"
      },
      "execution_count": 100,
      "outputs": [
        {
          "output_type": "execute_result",
          "data": {
            "text/plain": [
              "45"
            ]
          },
          "metadata": {},
          "execution_count": 100
        }
      ]
    },
    {
      "cell_type": "code",
      "source": [
        "# sum of all rows\n",
        "# sum of all columns"
      ],
      "metadata": {
        "id": "9s-YzKhb9v0r"
      },
      "execution_count": 101,
      "outputs": []
    },
    {
      "cell_type": "markdown",
      "source": [
        "Strings"
      ],
      "metadata": {
        "id": "Yh8ft559Au4h"
      }
    },
    {
      "cell_type": "code",
      "source": [
        "# ord -> ASCII\n",
        "\n",
        "ord('o')"
      ],
      "metadata": {
        "colab": {
          "base_uri": "https://localhost:8080/"
        },
        "id": "UD6uQDU-953G",
        "outputId": "e87b584e-bcce-4912-a179-56156a76dad3"
      },
      "execution_count": 1,
      "outputs": [
        {
          "output_type": "execute_result",
          "data": {
            "text/plain": [
              "111"
            ]
          },
          "metadata": {},
          "execution_count": 1
        }
      ]
    },
    {
      "cell_type": "code",
      "source": [
        "message= \"Hello World\"\n",
        "i=0\n",
        "while i < len(message):\n",
        "  if i%2==0:\n",
        "    print(message[i], end=\"\")\n",
        "  i+=1"
      ],
      "metadata": {
        "colab": {
          "base_uri": "https://localhost:8080/"
        },
        "id": "EPJpzIZzi6un",
        "outputId": "604b3c35-f46e-41c4-9150-157e0d4b3399"
      },
      "execution_count": 5,
      "outputs": [
        {
          "output_type": "stream",
          "name": "stdout",
          "text": [
            "HloWrd"
          ]
        }
      ]
    },
    {
      "cell_type": "code",
      "source": [
        "# String Methods <=>\n",
        "\n",
        "# 1. split()\n",
        "# 2. join()\n",
        "# 3. str()\n",
        "# 4. find()\n",
        "# 5. replace( , )\n",
        "# 6. count()\n",
        "# 7. isdigit()\n",
        "# 8. isalpha()\n",
        "# 9. len()\n",
        "# 10. isupper() , upper()\n",
        "# 11. islower() , lower()"
      ],
      "metadata": {
        "id": "aUbW4fBKldIU"
      },
      "execution_count": 6,
      "outputs": []
    },
    {
      "cell_type": "code",
      "source": [
        "# numeric to string\n",
        "\n",
        "a = [1,2,3,4,5,6]\n",
        "res = []\n",
        "for i in a:\n",
        "  res.append(str(i))"
      ],
      "metadata": {
        "id": "qVbJxTEGplEG"
      },
      "execution_count": 12,
      "outputs": []
    },
    {
      "cell_type": "code",
      "source": [
        "res"
      ],
      "metadata": {
        "colab": {
          "base_uri": "https://localhost:8080/"
        },
        "id": "1BGPrkegp0LZ",
        "outputId": "b803929b-d5a7-4039-d8dd-6a20b7a6b649"
      },
      "execution_count": 13,
      "outputs": [
        {
          "output_type": "execute_result",
          "data": {
            "text/plain": [
              "['1', '2', '3', '4', '5', '6']"
            ]
          },
          "metadata": {},
          "execution_count": 13
        }
      ]
    },
    {
      "cell_type": "code",
      "source": [
        "def check_palindrome(a):    # edge case -> capital/small alphabet\n",
        "  a= a.lower()\n",
        "  if a==a[::-1]:\n",
        "    print(\"True\")\n",
        "  else:\n",
        "    print(\"False\")"
      ],
      "metadata": {
        "id": "dOgsKEKBp0_n"
      },
      "execution_count": 18,
      "outputs": []
    },
    {
      "cell_type": "code",
      "source": [
        "check_palindrome('Aca')"
      ],
      "metadata": {
        "colab": {
          "base_uri": "https://localhost:8080/"
        },
        "id": "sAtSeed7zDmz",
        "outputId": "7f22b334-e7ed-46a8-8da5-b7d49aa42538"
      },
      "execution_count": 19,
      "outputs": [
        {
          "output_type": "stream",
          "name": "stdout",
          "text": [
            "True\n"
          ]
        }
      ]
    },
    {
      "cell_type": "markdown",
      "source": [
        "Tuple and Sets"
      ],
      "metadata": {
        "id": "3tQgq3xDMxn3"
      }
    },
    {
      "cell_type": "code",
      "source": [
        "plantes = (\"earth\", \"mars\", \"jupiter\", \"mercury\", \"saturn\")"
      ],
      "metadata": {
        "id": "mVGDhdvmM0WS"
      },
      "execution_count": 1,
      "outputs": []
    },
    {
      "cell_type": "code",
      "source": [
        "type(plantes)"
      ],
      "metadata": {
        "colab": {
          "base_uri": "https://localhost:8080/"
        },
        "id": "zCTTkHliNQRc",
        "outputId": "6bc87ced-45c2-4a10-fc13-740586bacfd7"
      },
      "execution_count": 2,
      "outputs": [
        {
          "output_type": "execute_result",
          "data": {
            "text/plain": [
              "tuple"
            ]
          },
          "metadata": {},
          "execution_count": 2
        }
      ]
    },
    {
      "cell_type": "code",
      "source": [
        "plantes[0]"
      ],
      "metadata": {
        "colab": {
          "base_uri": "https://localhost:8080/",
          "height": 36
        },
        "id": "76wR9PnANUGW",
        "outputId": "06c5067c-4f78-4cf6-b00b-797cb4b7d870"
      },
      "execution_count": 4,
      "outputs": [
        {
          "output_type": "execute_result",
          "data": {
            "text/plain": [
              "'earth'"
            ],
            "application/vnd.google.colaboratory.intrinsic+json": {
              "type": "string"
            }
          },
          "metadata": {},
          "execution_count": 4
        }
      ]
    },
    {
      "cell_type": "code",
      "source": [
        "plantes[0] = \"cow\"  # immutable/cannot change the value"
      ],
      "metadata": {
        "colab": {
          "base_uri": "https://localhost:8080/",
          "height": 146
        },
        "collapsed": true,
        "id": "I8jeWWf0N3Kg",
        "outputId": "2f4d0b35-0a24-4544-e127-0a4b23ac9afa"
      },
      "execution_count": 5,
      "outputs": [
        {
          "output_type": "error",
          "ename": "TypeError",
          "evalue": "'tuple' object does not support item assignment",
          "traceback": [
            "\u001b[0;31m---------------------------------------------------------------------------\u001b[0m",
            "\u001b[0;31mTypeError\u001b[0m                                 Traceback (most recent call last)",
            "\u001b[0;32m<ipython-input-5-055918126600>\u001b[0m in \u001b[0;36m<cell line: 1>\u001b[0;34m()\u001b[0m\n\u001b[0;32m----> 1\u001b[0;31m \u001b[0mplantes\u001b[0m\u001b[0;34m[\u001b[0m\u001b[0;36m0\u001b[0m\u001b[0;34m]\u001b[0m \u001b[0;34m=\u001b[0m \u001b[0;34m\"cow\"\u001b[0m\u001b[0;34m\u001b[0m\u001b[0;34m\u001b[0m\u001b[0m\n\u001b[0m",
            "\u001b[0;31mTypeError\u001b[0m: 'tuple' object does not support item assignment"
          ]
        }
      ]
    },
    {
      "cell_type": "code",
      "source": [
        "plantes[-3:-1]  # flow will be from left to right '[-1:-3]' will not work"
      ],
      "metadata": {
        "colab": {
          "base_uri": "https://localhost:8080/"
        },
        "id": "LEFq2j4dOBXS",
        "outputId": "2bde2c20-dabb-4ec9-86bf-6a2a0793d57d"
      },
      "execution_count": 10,
      "outputs": [
        {
          "output_type": "execute_result",
          "data": {
            "text/plain": [
              "('jupiter', 'mercury')"
            ]
          },
          "metadata": {},
          "execution_count": 10
        }
      ]
    },
    {
      "cell_type": "code",
      "source": [
        "# a=(45)  -> not tuple,  b=(45,)  -> comma represents tuple"
      ],
      "metadata": {
        "id": "atLqsDvJPEjf"
      },
      "execution_count": 11,
      "outputs": []
    },
    {
      "cell_type": "code",
      "source": [
        "a = [1,2,3,4,5]"
      ],
      "metadata": {
        "id": "pw0uakJdP4C9"
      },
      "execution_count": 12,
      "outputs": []
    },
    {
      "cell_type": "code",
      "source": [
        "b = tuple(a)"
      ],
      "metadata": {
        "id": "pM7irRgdUFa1"
      },
      "execution_count": 13,
      "outputs": []
    },
    {
      "cell_type": "code",
      "source": [
        "type(a)"
      ],
      "metadata": {
        "colab": {
          "base_uri": "https://localhost:8080/"
        },
        "id": "t9f72bMwUHNJ",
        "outputId": "4e6b8a58-1cf6-4ca3-92ba-6f0e97995b3a"
      },
      "execution_count": 14,
      "outputs": [
        {
          "output_type": "execute_result",
          "data": {
            "text/plain": [
              "list"
            ]
          },
          "metadata": {},
          "execution_count": 14
        }
      ]
    },
    {
      "cell_type": "code",
      "source": [
        "type(b)"
      ],
      "metadata": {
        "colab": {
          "base_uri": "https://localhost:8080/"
        },
        "id": "yiIHMd0rUIO8",
        "outputId": "1e6193e3-188f-428b-d9ab-c1a62e645966"
      },
      "execution_count": 15,
      "outputs": [
        {
          "output_type": "execute_result",
          "data": {
            "text/plain": [
              "tuple"
            ]
          },
          "metadata": {},
          "execution_count": 15
        }
      ]
    },
    {
      "cell_type": "code",
      "source": [
        "x,y,z = (1,2,3)  # unpacking"
      ],
      "metadata": {
        "id": "t5pdC5i4UKeI"
      },
      "execution_count": 16,
      "outputs": []
    },
    {
      "cell_type": "code",
      "source": [
        "type(x)"
      ],
      "metadata": {
        "colab": {
          "base_uri": "https://localhost:8080/"
        },
        "id": "YVMrl890UaAR",
        "outputId": "72c2858c-5ee4-4384-c8e0-9927b809a66e"
      },
      "execution_count": 17,
      "outputs": [
        {
          "output_type": "execute_result",
          "data": {
            "text/plain": [
              "int"
            ]
          },
          "metadata": {},
          "execution_count": 17
        }
      ]
    },
    {
      "cell_type": "code",
      "source": [
        "def foo():\n",
        "  return 100,200,300"
      ],
      "metadata": {
        "id": "kCoY68hWUeS6"
      },
      "execution_count": 18,
      "outputs": []
    },
    {
      "cell_type": "code",
      "source": [
        "a = foo()"
      ],
      "metadata": {
        "id": "RmEntcLUVLzP"
      },
      "execution_count": 19,
      "outputs": []
    },
    {
      "cell_type": "code",
      "source": [
        "type(a)"
      ],
      "metadata": {
        "colab": {
          "base_uri": "https://localhost:8080/"
        },
        "id": "rTK1g9awVQyd",
        "outputId": "734b9281-ed11-44b9-888e-3a0815bb27f3"
      },
      "execution_count": 20,
      "outputs": [
        {
          "output_type": "execute_result",
          "data": {
            "text/plain": [
              "tuple"
            ]
          },
          "metadata": {},
          "execution_count": 20
        }
      ]
    },
    {
      "cell_type": "code",
      "source": [
        "a,b,c = foo()"
      ],
      "metadata": {
        "id": "acKQtVFTVSiP"
      },
      "execution_count": 21,
      "outputs": []
    },
    {
      "cell_type": "code",
      "source": [
        "a"
      ],
      "metadata": {
        "colab": {
          "base_uri": "https://localhost:8080/"
        },
        "id": "CPPdwKQrVa4V",
        "outputId": "7ead8e58-58fe-4c91-d5bc-99ac59a9bd36"
      },
      "execution_count": 22,
      "outputs": [
        {
          "output_type": "execute_result",
          "data": {
            "text/plain": [
              "100"
            ]
          },
          "metadata": {},
          "execution_count": 22
        }
      ]
    },
    {
      "cell_type": "code",
      "source": [
        "b"
      ],
      "metadata": {
        "colab": {
          "base_uri": "https://localhost:8080/"
        },
        "id": "lEb21IV7VbnE",
        "outputId": "6a8ab4f7-c90e-4706-8846-1768ff30ba78"
      },
      "execution_count": 23,
      "outputs": [
        {
          "output_type": "execute_result",
          "data": {
            "text/plain": [
              "200"
            ]
          },
          "metadata": {},
          "execution_count": 23
        }
      ]
    },
    {
      "cell_type": "code",
      "source": [
        "c"
      ],
      "metadata": {
        "colab": {
          "base_uri": "https://localhost:8080/"
        },
        "id": "MVfkK95tVcbG",
        "outputId": "86ae61d7-5ddd-4032-83df-259360d57d3e"
      },
      "execution_count": 24,
      "outputs": [
        {
          "output_type": "execute_result",
          "data": {
            "text/plain": [
              "300"
            ]
          },
          "metadata": {},
          "execution_count": 24
        }
      ]
    },
    {
      "cell_type": "code",
      "source": [
        "# swap two variable\n",
        "a=5\n",
        "b=10"
      ],
      "metadata": {
        "id": "vuLhxDVIVdIP"
      },
      "execution_count": 2,
      "outputs": []
    },
    {
      "cell_type": "code",
      "source": [
        "a,b=b,a"
      ],
      "metadata": {
        "id": "3rYjLyVy0fNQ"
      },
      "execution_count": 3,
      "outputs": []
    },
    {
      "cell_type": "code",
      "source": [
        "a\n"
      ],
      "metadata": {
        "colab": {
          "base_uri": "https://localhost:8080/"
        },
        "id": "TdQmxz4z0kJz",
        "outputId": "3c1f32e4-102b-44f7-bc15-866aabfd4b30"
      },
      "execution_count": 4,
      "outputs": [
        {
          "output_type": "execute_result",
          "data": {
            "text/plain": [
              "10"
            ]
          },
          "metadata": {},
          "execution_count": 4
        }
      ]
    },
    {
      "cell_type": "code",
      "source": [
        "b"
      ],
      "metadata": {
        "colab": {
          "base_uri": "https://localhost:8080/"
        },
        "id": "HylvdP070lIy",
        "outputId": "8abf4e60-eeec-4ba5-ce85-57d4e627ebb6"
      },
      "execution_count": 5,
      "outputs": [
        {
          "output_type": "execute_result",
          "data": {
            "text/plain": [
              "5"
            ]
          },
          "metadata": {},
          "execution_count": 5
        }
      ]
    },
    {
      "cell_type": "code",
      "source": [
        "# sets{}\n",
        "\n",
        "# sets  -> takes unique elements, indexing not allowed\n",
        "# can store -> tuple, string, boolean, int kind of data type\n",
        "# it cannot store -> lists, sets within sets, dictionary\n",
        "\n",
        "t=[1,2,44,55,78,34,89,9]"
      ],
      "metadata": {
        "id": "7OUF4g990mHO"
      },
      "execution_count": 7,
      "outputs": []
    },
    {
      "cell_type": "code",
      "source": [
        "type(t)"
      ],
      "metadata": {
        "colab": {
          "base_uri": "https://localhost:8080/"
        },
        "id": "teRjpvSK16fj",
        "outputId": "4c3d8015-22da-4701-ec28-c59cbaa764b9"
      },
      "execution_count": 8,
      "outputs": [
        {
          "output_type": "execute_result",
          "data": {
            "text/plain": [
              "list"
            ]
          },
          "metadata": {},
          "execution_count": 8
        }
      ]
    },
    {
      "cell_type": "code",
      "source": [
        "s=set(t)"
      ],
      "metadata": {
        "id": "4RopkLz61_eb"
      },
      "execution_count": 9,
      "outputs": []
    },
    {
      "cell_type": "code",
      "source": [
        "type(s)"
      ],
      "metadata": {
        "colab": {
          "base_uri": "https://localhost:8080/"
        },
        "id": "eUhwXDFn2Dvq",
        "outputId": "a27c0ebe-2d20-4540-a55b-a46e4db6867d"
      },
      "execution_count": 10,
      "outputs": [
        {
          "output_type": "execute_result",
          "data": {
            "text/plain": [
              "set"
            ]
          },
          "metadata": {},
          "execution_count": 10
        }
      ]
    },
    {
      "cell_type": "code",
      "source": [
        "s"
      ],
      "metadata": {
        "colab": {
          "base_uri": "https://localhost:8080/"
        },
        "id": "kyv1By-d2E_5",
        "outputId": "5c94d1a0-0a1f-4ea3-db25-35d99c5756d9"
      },
      "execution_count": 11,
      "outputs": [
        {
          "output_type": "execute_result",
          "data": {
            "text/plain": [
              "{1, 2, 9, 34, 44, 55, 78, 89}"
            ]
          },
          "metadata": {},
          "execution_count": 11
        }
      ]
    },
    {
      "cell_type": "code",
      "source": [
        "s={\"mukul\", (1,2,3), True}"
      ],
      "metadata": {
        "id": "YYhA_W2U2F7O"
      },
      "execution_count": 12,
      "outputs": []
    },
    {
      "cell_type": "code",
      "source": [
        "s"
      ],
      "metadata": {
        "colab": {
          "base_uri": "https://localhost:8080/"
        },
        "id": "NHmE5w7T3VIp",
        "outputId": "14a14323-0f45-4570-a519-ae57a04f9a8d"
      },
      "execution_count": 13,
      "outputs": [
        {
          "output_type": "execute_result",
          "data": {
            "text/plain": [
              "{(1, 2, 3), True, 'mukul'}"
            ]
          },
          "metadata": {},
          "execution_count": 13
        }
      ]
    },
    {
      "cell_type": "code",
      "source": [
        "# sets function ->\n",
        "\n",
        "s.add(4)"
      ],
      "metadata": {
        "id": "Y2eehXvv3V1g"
      },
      "execution_count": 14,
      "outputs": []
    },
    {
      "cell_type": "code",
      "source": [
        "s"
      ],
      "metadata": {
        "colab": {
          "base_uri": "https://localhost:8080/"
        },
        "id": "9_N5G5pU35Nh",
        "outputId": "f2b3369b-68ee-423c-b181-b892a50babba"
      },
      "execution_count": 15,
      "outputs": [
        {
          "output_type": "execute_result",
          "data": {
            "text/plain": [
              "{(1, 2, 3), 4, True, 'mukul'}"
            ]
          },
          "metadata": {},
          "execution_count": 15
        }
      ]
    },
    {
      "cell_type": "code",
      "source": [
        "s.remove(\"mukul\")"
      ],
      "metadata": {
        "id": "VG6lSk2X35zq"
      },
      "execution_count": 18,
      "outputs": []
    },
    {
      "cell_type": "code",
      "source": [
        "s"
      ],
      "metadata": {
        "colab": {
          "base_uri": "https://localhost:8080/"
        },
        "id": "AIk9qezs388r",
        "outputId": "156c8aa7-5feb-4e86-a42e-0f68b370844b"
      },
      "execution_count": 19,
      "outputs": [
        {
          "output_type": "execute_result",
          "data": {
            "text/plain": [
              "{(1, 2, 3), 4}"
            ]
          },
          "metadata": {},
          "execution_count": 19
        }
      ]
    },
    {
      "cell_type": "code",
      "source": [
        "s.pop() # removes first element"
      ],
      "metadata": {
        "colab": {
          "base_uri": "https://localhost:8080/"
        },
        "id": "220PQisa39dN",
        "outputId": "e43c947a-2284-4cb4-e9ec-2f2e5ae11fc7"
      },
      "execution_count": 20,
      "outputs": [
        {
          "output_type": "execute_result",
          "data": {
            "text/plain": [
              "(1, 2, 3)"
            ]
          },
          "metadata": {},
          "execution_count": 20
        }
      ]
    },
    {
      "cell_type": "code",
      "source": [
        "s"
      ],
      "metadata": {
        "colab": {
          "base_uri": "https://localhost:8080/"
        },
        "id": "lSsgY9CH4JTP",
        "outputId": "673a35b5-a9dd-4ae7-d9d5-2cb84d4d2b6d"
      },
      "execution_count": 21,
      "outputs": [
        {
          "output_type": "execute_result",
          "data": {
            "text/plain": [
              "{4}"
            ]
          },
          "metadata": {},
          "execution_count": 21
        }
      ]
    },
    {
      "cell_type": "code",
      "source": [
        "s.update((1,2,3,4,5,6))  # no duplications"
      ],
      "metadata": {
        "id": "G81cqArZ4JrD"
      },
      "execution_count": 22,
      "outputs": []
    },
    {
      "cell_type": "code",
      "source": [
        "s"
      ],
      "metadata": {
        "colab": {
          "base_uri": "https://localhost:8080/"
        },
        "id": "ArTWCYkU4Vm6",
        "outputId": "a473b87f-fdaf-4b59-cba5-cb35b99deeb0"
      },
      "execution_count": 23,
      "outputs": [
        {
          "output_type": "execute_result",
          "data": {
            "text/plain": [
              "{1, 2, 3, 4, 5, 6}"
            ]
          },
          "metadata": {},
          "execution_count": 23
        }
      ]
    },
    {
      "cell_type": "code",
      "source": [
        "len(\"mukul bawane\")"
      ],
      "metadata": {
        "colab": {
          "base_uri": "https://localhost:8080/"
        },
        "id": "Q4_U1BBH4WIo",
        "outputId": "0dbeb9ef-8fca-4afc-b858-6e6ccca9d73f"
      },
      "execution_count": 24,
      "outputs": [
        {
          "output_type": "execute_result",
          "data": {
            "text/plain": [
              "12"
            ]
          },
          "metadata": {},
          "execution_count": 24
        }
      ]
    },
    {
      "cell_type": "code",
      "source": [
        "len(set(\"mukul bawane\"))"
      ],
      "metadata": {
        "colab": {
          "base_uri": "https://localhost:8080/"
        },
        "id": "FqV0N4O34sMB",
        "outputId": "ce321320-8761-4406-f78b-00634b91e2df"
      },
      "execution_count": 25,
      "outputs": [
        {
          "output_type": "execute_result",
          "data": {
            "text/plain": [
              "10"
            ]
          },
          "metadata": {},
          "execution_count": 25
        }
      ]
    },
    {
      "cell_type": "code",
      "source": [
        "# pop removes last element from list and first element from sets"
      ],
      "metadata": {
        "id": "AvnJBTVn482c"
      },
      "execution_count": 26,
      "outputs": []
    },
    {
      "cell_type": "code",
      "source": [
        "s1= {2,3,4,5}\n",
        "s2= {1,3,4,6,7,8}"
      ],
      "metadata": {
        "id": "qjUapWuy5hWM"
      },
      "execution_count": 27,
      "outputs": []
    },
    {
      "cell_type": "code",
      "source": [
        "# Intersection(&) and Union (|)\n",
        "\n",
        "s1.intersection(s2)"
      ],
      "metadata": {
        "colab": {
          "base_uri": "https://localhost:8080/"
        },
        "id": "GCI1dEu95q9b",
        "outputId": "d7591714-63b9-41c4-cd3e-209f878f7e98"
      },
      "execution_count": 28,
      "outputs": [
        {
          "output_type": "execute_result",
          "data": {
            "text/plain": [
              "{3, 4}"
            ]
          },
          "metadata": {},
          "execution_count": 28
        }
      ]
    },
    {
      "cell_type": "code",
      "source": [
        "s1 & s2"
      ],
      "metadata": {
        "colab": {
          "base_uri": "https://localhost:8080/"
        },
        "id": "D3VZJ4a86VdD",
        "outputId": "669af25a-e666-4045-e974-0186946457e4"
      },
      "execution_count": 29,
      "outputs": [
        {
          "output_type": "execute_result",
          "data": {
            "text/plain": [
              "{3, 4}"
            ]
          },
          "metadata": {},
          "execution_count": 29
        }
      ]
    },
    {
      "cell_type": "code",
      "source": [
        "s1.union(s2)"
      ],
      "metadata": {
        "colab": {
          "base_uri": "https://localhost:8080/"
        },
        "id": "PwZvhklf6bMB",
        "outputId": "7f30693d-a876-4d2f-ef2b-2deaaf09e1e6"
      },
      "execution_count": 30,
      "outputs": [
        {
          "output_type": "execute_result",
          "data": {
            "text/plain": [
              "{1, 2, 3, 4, 5, 6, 7, 8}"
            ]
          },
          "metadata": {},
          "execution_count": 30
        }
      ]
    },
    {
      "cell_type": "code",
      "source": [
        "s1 | s2"
      ],
      "metadata": {
        "colab": {
          "base_uri": "https://localhost:8080/"
        },
        "id": "FWhn2AWx6eJt",
        "outputId": "e8c86a18-3ef3-4df3-a48b-b8016f055015"
      },
      "execution_count": 31,
      "outputs": [
        {
          "output_type": "execute_result",
          "data": {
            "text/plain": [
              "{1, 2, 3, 4, 5, 6, 7, 8}"
            ]
          },
          "metadata": {},
          "execution_count": 31
        }
      ]
    },
    {
      "cell_type": "code",
      "source": [
        "# set difference(-)  & symetric difference(^)\n",
        "\n",
        "s1.difference(s2)"
      ],
      "metadata": {
        "colab": {
          "base_uri": "https://localhost:8080/"
        },
        "id": "ii0IIfs96gld",
        "outputId": "f432fa75-fb8d-4a34-a6c8-eea624327358"
      },
      "execution_count": 33,
      "outputs": [
        {
          "output_type": "execute_result",
          "data": {
            "text/plain": [
              "{2, 5}"
            ]
          },
          "metadata": {},
          "execution_count": 33
        }
      ]
    },
    {
      "cell_type": "code",
      "source": [
        "s1-s2"
      ],
      "metadata": {
        "colab": {
          "base_uri": "https://localhost:8080/"
        },
        "id": "iHSb9zPa60vn",
        "outputId": "d87664d4-53cd-49f0-b632-9838a7e7f655"
      },
      "execution_count": 34,
      "outputs": [
        {
          "output_type": "execute_result",
          "data": {
            "text/plain": [
              "{2, 5}"
            ]
          },
          "metadata": {},
          "execution_count": 34
        }
      ]
    },
    {
      "cell_type": "code",
      "source": [
        "s1.symmetric_difference(s2)"
      ],
      "metadata": {
        "colab": {
          "base_uri": "https://localhost:8080/"
        },
        "id": "w1-cQvw37V-O",
        "outputId": "782e11c9-99a1-4004-c80d-38689f1e37c0"
      },
      "execution_count": 35,
      "outputs": [
        {
          "output_type": "execute_result",
          "data": {
            "text/plain": [
              "{1, 2, 5, 6, 7, 8}"
            ]
          },
          "metadata": {},
          "execution_count": 35
        }
      ]
    },
    {
      "cell_type": "code",
      "source": [
        "s1 ^ s2"
      ],
      "metadata": {
        "colab": {
          "base_uri": "https://localhost:8080/"
        },
        "id": "cosaC_aP7ZW7",
        "outputId": "a7adefb5-270d-4473-ca0c-8161841077ff"
      },
      "execution_count": 36,
      "outputs": [
        {
          "output_type": "execute_result",
          "data": {
            "text/plain": [
              "{1, 2, 5, 6, 7, 8}"
            ]
          },
          "metadata": {},
          "execution_count": 36
        }
      ]
    },
    {
      "cell_type": "code",
      "source": [
        "#Q-> you are a string as an input\n",
        "# As certain whether that string contain a binary number or not.\n",
        "\n",
        "def check_binary(string):\n",
        "  for i in string:\n",
        "    if not i==\"0\" or i==\"1\":\n",
        "      return(\"Not Binary\")\n",
        "    return(\"Binary\")"
      ],
      "metadata": {
        "id": "7yDD7yPh7gBb"
      },
      "execution_count": 39,
      "outputs": []
    },
    {
      "cell_type": "code",
      "source": [
        "check_binary(\"0011010101adff\")"
      ],
      "metadata": {
        "colab": {
          "base_uri": "https://localhost:8080/",
          "height": 36
        },
        "id": "0PGL_Lzs89MW",
        "outputId": "993b75d3-14f3-40fc-ccf8-5b5221186f7e"
      },
      "execution_count": 40,
      "outputs": [
        {
          "output_type": "execute_result",
          "data": {
            "text/plain": [
              "'Binary'"
            ],
            "application/vnd.google.colaboratory.intrinsic+json": {
              "type": "string"
            }
          },
          "metadata": {},
          "execution_count": 40
        }
      ]
    },
    {
      "cell_type": "code",
      "source": [
        "def check_Binary(string):\n",
        "  s=set(string)\n",
        "  if s=={\"0\", \"1\"}:\n",
        "    return(\"Binary\")\n",
        "  else:\n",
        "    return(\"Non-Binary\")"
      ],
      "metadata": {
        "id": "5zp1pHu69UIG"
      },
      "execution_count": 43,
      "outputs": []
    },
    {
      "cell_type": "code",
      "source": [
        "check_Binary(\"hskjgfskj\")"
      ],
      "metadata": {
        "colab": {
          "base_uri": "https://localhost:8080/",
          "height": 36
        },
        "id": "vbdSqMcO9y5W",
        "outputId": "9f3517c4-7a61-42ea-e0f0-7632d9d39002"
      },
      "execution_count": 44,
      "outputs": [
        {
          "output_type": "execute_result",
          "data": {
            "text/plain": [
              "'Non-Binary'"
            ],
            "application/vnd.google.colaboratory.intrinsic+json": {
              "type": "string"
            }
          },
          "metadata": {},
          "execution_count": 44
        }
      ]
    },
    {
      "cell_type": "markdown",
      "source": [
        "Dictionaries"
      ],
      "metadata": {
        "id": "gQ31i2zWi5-h"
      }
    },
    {
      "cell_type": "code",
      "source": [
        "a = {\"1\":\"mukul\", \"2\":\"bawane\"}"
      ],
      "metadata": {
        "id": "-yclTHVD92ma"
      },
      "execution_count": 3,
      "outputs": []
    },
    {
      "cell_type": "code",
      "source": [
        "a"
      ],
      "metadata": {
        "colab": {
          "base_uri": "https://localhost:8080/"
        },
        "id": "A-yAY75YjD5i",
        "outputId": "4b172e3a-4189-4ace-db11-c8036a43acd2"
      },
      "execution_count": 4,
      "outputs": [
        {
          "output_type": "execute_result",
          "data": {
            "text/plain": [
              "{'1': 'mukul', '2': 'bawane'}"
            ]
          },
          "metadata": {},
          "execution_count": 4
        }
      ]
    },
    {
      "cell_type": "code",
      "source": [
        "type(a)"
      ],
      "metadata": {
        "colab": {
          "base_uri": "https://localhost:8080/"
        },
        "id": "26_kE2XzjEpt",
        "outputId": "794f1a95-5d85-4bbe-b750-a1fd55044a96"
      },
      "execution_count": 5,
      "outputs": [
        {
          "output_type": "execute_result",
          "data": {
            "text/plain": [
              "dict"
            ]
          },
          "metadata": {},
          "execution_count": 5
        }
      ]
    },
    {
      "cell_type": "code",
      "source": [
        "a[\"2\"]  # access the element using key"
      ],
      "metadata": {
        "colab": {
          "base_uri": "https://localhost:8080/",
          "height": 36
        },
        "id": "LCVdmeUZjIkv",
        "outputId": "ea684141-658d-4cc7-fd21-a7fabccf28f7"
      },
      "execution_count": 8,
      "outputs": [
        {
          "output_type": "execute_result",
          "data": {
            "text/plain": [
              "'bawane'"
            ],
            "application/vnd.google.colaboratory.intrinsic+json": {
              "type": "string"
            }
          },
          "metadata": {},
          "execution_count": 8
        }
      ]
    },
    {
      "cell_type": "code",
      "source": [
        "city = {\n",
        "    \"nagpur\":370,\n",
        "    \"mumbai\":400,\n",
        "    \"delhi\":600,\n",
        "    \"bengaluru\":440\n",
        "}"
      ],
      "metadata": {
        "id": "MchP9FSFjL74"
      },
      "execution_count": 2,
      "outputs": []
    },
    {
      "cell_type": "code",
      "source": [
        "city"
      ],
      "metadata": {
        "colab": {
          "base_uri": "https://localhost:8080/"
        },
        "id": "OrIOgM3Ojw0B",
        "outputId": "4783f16d-bf3e-4b95-a26c-5f6030c38c14"
      },
      "execution_count": 11,
      "outputs": [
        {
          "output_type": "execute_result",
          "data": {
            "text/plain": [
              "{'nagpur': 370, 'mumbai': 400, 'delhi': 600, 'bengaluru': 440}"
            ]
          },
          "metadata": {},
          "execution_count": 11
        }
      ]
    },
    {
      "cell_type": "code",
      "source": [
        "city[\"nagpur\"]"
      ],
      "metadata": {
        "colab": {
          "base_uri": "https://localhost:8080/"
        },
        "id": "ZteIAIhTkB0F",
        "outputId": "d6aa8a79-c359-4c47-ca6f-13b8468a255d"
      },
      "execution_count": 12,
      "outputs": [
        {
          "output_type": "execute_result",
          "data": {
            "text/plain": [
              "370"
            ]
          },
          "metadata": {},
          "execution_count": 12
        }
      ]
    },
    {
      "cell_type": "code",
      "source": [
        "city1 = [(\"nagpur\", 500), (\"delhi\", 660), (\"mumbai\", 450)]"
      ],
      "metadata": {
        "id": "DrbAC7I_kFxN"
      },
      "execution_count": 13,
      "outputs": []
    },
    {
      "cell_type": "code",
      "source": [
        "type(city1)"
      ],
      "metadata": {
        "colab": {
          "base_uri": "https://localhost:8080/"
        },
        "id": "16yimX-xkgQz",
        "outputId": "1fe16f58-a837-4b37-9d1c-dd6378897e63"
      },
      "execution_count": 14,
      "outputs": [
        {
          "output_type": "execute_result",
          "data": {
            "text/plain": [
              "list"
            ]
          },
          "metadata": {},
          "execution_count": 14
        }
      ]
    },
    {
      "cell_type": "code",
      "source": [
        "city1[2][0]  # can access both key and value in tuple"
      ],
      "metadata": {
        "colab": {
          "base_uri": "https://localhost:8080/",
          "height": 36
        },
        "id": "ICYdkQhTkiTj",
        "outputId": "5f21b49e-7e58-416e-8a2e-9c2848aad4e8"
      },
      "execution_count": 16,
      "outputs": [
        {
          "output_type": "execute_result",
          "data": {
            "text/plain": [
              "'mumbai'"
            ],
            "application/vnd.google.colaboratory.intrinsic+json": {
              "type": "string"
            }
          },
          "metadata": {},
          "execution_count": 16
        }
      ]
    },
    {
      "cell_type": "code",
      "source": [
        "city"
      ],
      "metadata": {
        "colab": {
          "base_uri": "https://localhost:8080/"
        },
        "id": "Rq5QSxsvk7cN",
        "outputId": "e7450841-e942-4283-c0f3-998bff7aaf29"
      },
      "execution_count": 17,
      "outputs": [
        {
          "output_type": "execute_result",
          "data": {
            "text/plain": [
              "{'nagpur': 370, 'mumbai': 400, 'delhi': 600, 'bengaluru': 440}"
            ]
          },
          "metadata": {},
          "execution_count": 17
        }
      ]
    },
    {
      "cell_type": "code",
      "source": [
        "# Dictionaries Functions\n",
        "\n",
        "\n",
        "city[\"nagpur\"] = 600  # modification in dict\n"
      ],
      "metadata": {
        "id": "3HNzzFnolWjL"
      },
      "execution_count": 19,
      "outputs": []
    },
    {
      "cell_type": "code",
      "source": [
        "city"
      ],
      "metadata": {
        "colab": {
          "base_uri": "https://localhost:8080/"
        },
        "id": "3pUHi8WKlpRL",
        "outputId": "41d8f15d-a0e7-4516-aeab-698d5d810533"
      },
      "execution_count": 20,
      "outputs": [
        {
          "output_type": "execute_result",
          "data": {
            "text/plain": [
              "{'nagpur': 600, 'mumbai': 400, 'delhi': 600, 'bengaluru': 440}"
            ]
          },
          "metadata": {},
          "execution_count": 20
        }
      ]
    },
    {
      "cell_type": "code",
      "source": [
        "city[\"lucknow\"] = 300  # value will be added in the end"
      ],
      "metadata": {
        "id": "Hoeuoio9ly02"
      },
      "execution_count": 21,
      "outputs": []
    },
    {
      "cell_type": "code",
      "source": [
        "city"
      ],
      "metadata": {
        "colab": {
          "base_uri": "https://localhost:8080/"
        },
        "id": "TtHoAn9qmY4s",
        "outputId": "0aa7c835-9865-4e5f-fa61-40f532ccda52"
      },
      "execution_count": 22,
      "outputs": [
        {
          "output_type": "execute_result",
          "data": {
            "text/plain": [
              "{'nagpur': 600, 'mumbai': 400, 'delhi': 600, 'bengaluru': 440, 'lucknow': 300}"
            ]
          },
          "metadata": {},
          "execution_count": 22
        }
      ]
    },
    {
      "cell_type": "code",
      "source": [
        "city[\"lucknow\"]"
      ],
      "metadata": {
        "colab": {
          "base_uri": "https://localhost:8080/"
        },
        "id": "B056YVNDmZnv",
        "outputId": "2901a203-9229-4a0a-a0a7-bf059b1e68f5"
      },
      "execution_count": 23,
      "outputs": [
        {
          "output_type": "execute_result",
          "data": {
            "text/plain": [
              "300"
            ]
          },
          "metadata": {},
          "execution_count": 23
        }
      ]
    },
    {
      "cell_type": "code",
      "source": [
        "city.update({\"kanpur\":330,    # update() the dict\n",
        "            \"pune\":550,\n",
        "            \"nashik\":310})"
      ],
      "metadata": {
        "id": "RtZpkCBYmhQo"
      },
      "execution_count": 24,
      "outputs": []
    },
    {
      "cell_type": "code",
      "source": [
        "city"
      ],
      "metadata": {
        "colab": {
          "base_uri": "https://localhost:8080/"
        },
        "id": "MGlK2b2GnaaP",
        "outputId": "e3864924-d95e-4896-c8b8-c4bba4c073f7"
      },
      "execution_count": 25,
      "outputs": [
        {
          "output_type": "execute_result",
          "data": {
            "text/plain": [
              "{'nagpur': 600,\n",
              " 'mumbai': 400,\n",
              " 'delhi': 600,\n",
              " 'bengaluru': 440,\n",
              " 'lucknow': 300,\n",
              " 'kanpur': 330,\n",
              " 'pune': 550,\n",
              " 'nashik': 310}"
            ]
          },
          "metadata": {},
          "execution_count": 25
        }
      ]
    },
    {
      "cell_type": "code",
      "source": [
        "city.get(\"pune\")  # get() function,"
      ],
      "metadata": {
        "colab": {
          "base_uri": "https://localhost:8080/"
        },
        "id": "CxvihKMfnbL_",
        "outputId": "d4d267c6-bea1-4abb-a945-7c53211ad55a"
      },
      "execution_count": 26,
      "outputs": [
        {
          "output_type": "execute_result",
          "data": {
            "text/plain": [
              "550"
            ]
          },
          "metadata": {},
          "execution_count": 26
        }
      ]
    },
    {
      "cell_type": "code",
      "source": [
        "city[\"pune\"]"
      ],
      "metadata": {
        "colab": {
          "base_uri": "https://localhost:8080/"
        },
        "id": "Y3RivXvpnwVX",
        "outputId": "9d59258b-eaf6-49d8-e6a2-9b8d3b8162ba"
      },
      "execution_count": 27,
      "outputs": [
        {
          "output_type": "execute_result",
          "data": {
            "text/plain": [
              "550"
            ]
          },
          "metadata": {},
          "execution_count": 27
        }
      ]
    },
    {
      "cell_type": "code",
      "source": [
        "city.get(\"goa\") # if key is not mentioned don't throw error"
      ],
      "metadata": {
        "id": "j_fySK1WnynS"
      },
      "execution_count": 28,
      "outputs": []
    },
    {
      "cell_type": "code",
      "source": [
        "city.pop(\"bengaluru\")  # need to mention key value"
      ],
      "metadata": {
        "colab": {
          "base_uri": "https://localhost:8080/"
        },
        "id": "Gxp4u_cuoN8r",
        "outputId": "4bd09caa-1902-4891-8503-768440678a34"
      },
      "execution_count": 29,
      "outputs": [
        {
          "output_type": "execute_result",
          "data": {
            "text/plain": [
              "440"
            ]
          },
          "metadata": {},
          "execution_count": 29
        }
      ]
    },
    {
      "cell_type": "code",
      "source": [
        "city"
      ],
      "metadata": {
        "colab": {
          "base_uri": "https://localhost:8080/"
        },
        "id": "w5ul63n-oWxQ",
        "outputId": "e4303eda-71f9-4981-94f8-308d5f18d6c2"
      },
      "execution_count": 30,
      "outputs": [
        {
          "output_type": "execute_result",
          "data": {
            "text/plain": [
              "{'nagpur': 600,\n",
              " 'mumbai': 400,\n",
              " 'delhi': 600,\n",
              " 'lucknow': 300,\n",
              " 'kanpur': 330,\n",
              " 'pune': 550,\n",
              " 'nashik': 310}"
            ]
          },
          "metadata": {},
          "execution_count": 30
        }
      ]
    },
    {
      "cell_type": "code",
      "source": [
        "city[\"AQI\"] = True"
      ],
      "metadata": {
        "id": "yLSEztifoYO1"
      },
      "execution_count": 32,
      "outputs": []
    },
    {
      "cell_type": "code",
      "source": [
        "city"
      ],
      "metadata": {
        "colab": {
          "base_uri": "https://localhost:8080/"
        },
        "id": "VEAw_ncVpdUf",
        "outputId": "3b0b5295-b11b-4370-bfbe-fde98e370f6f"
      },
      "execution_count": 33,
      "outputs": [
        {
          "output_type": "execute_result",
          "data": {
            "text/plain": [
              "{'nagpur': 600,\n",
              " 'mumbai': 400,\n",
              " 'delhi': 600,\n",
              " 'lucknow': 300,\n",
              " 'kanpur': 330,\n",
              " 'pune': 550,\n",
              " 'nashik': 310,\n",
              " 'AQI': True}"
            ]
          },
          "metadata": {},
          "execution_count": 33
        }
      ]
    },
    {
      "cell_type": "code",
      "source": [
        "for i in city:   # keys\n",
        "  print(i)"
      ],
      "metadata": {
        "colab": {
          "base_uri": "https://localhost:8080/"
        },
        "id": "CjrH8UyNpkJW",
        "outputId": "a229922e-f2ed-4c6f-ab20-cd9ccda5d55b"
      },
      "execution_count": 35,
      "outputs": [
        {
          "output_type": "stream",
          "name": "stdout",
          "text": [
            "nagpur\n",
            "mumbai\n",
            "delhi\n",
            "lucknow\n",
            "kanpur\n",
            "pune\n",
            "nashik\n",
            "AQI\n"
          ]
        }
      ]
    },
    {
      "cell_type": "code",
      "source": [
        "for i in city:\n",
        "  print(i, \" \", city[i])"
      ],
      "metadata": {
        "colab": {
          "base_uri": "https://localhost:8080/"
        },
        "id": "AF6tRcGJqUP6",
        "outputId": "cd60bb92-dd5f-40e9-8c1e-030b340c6af6"
      },
      "execution_count": 36,
      "outputs": [
        {
          "output_type": "stream",
          "name": "stdout",
          "text": [
            "nagpur   600\n",
            "mumbai   400\n",
            "delhi   600\n",
            "lucknow   300\n",
            "kanpur   330\n",
            "pune   550\n",
            "nashik   310\n",
            "AQI   True\n"
          ]
        }
      ]
    },
    {
      "cell_type": "code",
      "source": [
        "for i in city:   # values\n",
        "  print(city[i])"
      ],
      "metadata": {
        "colab": {
          "base_uri": "https://localhost:8080/"
        },
        "id": "pRgoD3H6qlKQ",
        "outputId": "1b4119c1-f5d8-4838-9564-8f592dcc1753"
      },
      "execution_count": 37,
      "outputs": [
        {
          "output_type": "stream",
          "name": "stdout",
          "text": [
            "600\n",
            "400\n",
            "600\n",
            "300\n",
            "330\n",
            "550\n",
            "310\n",
            "True\n"
          ]
        }
      ]
    },
    {
      "cell_type": "code",
      "source": [
        "for i in city:\n",
        "  print(f\"{i} --> {city[i]}\")   # f -> used for formatting the string"
      ],
      "metadata": {
        "colab": {
          "base_uri": "https://localhost:8080/"
        },
        "id": "b8KfSnZDqrno",
        "outputId": "e688f235-3f39-4caf-85cf-b737ca55badf"
      },
      "execution_count": 38,
      "outputs": [
        {
          "output_type": "stream",
          "name": "stdout",
          "text": [
            "nagpur --> 600\n",
            "mumbai --> 400\n",
            "delhi --> 600\n",
            "lucknow --> 300\n",
            "kanpur --> 330\n",
            "pune --> 550\n",
            "nashik --> 310\n",
            "AQI --> True\n"
          ]
        }
      ]
    },
    {
      "cell_type": "code",
      "source": [
        "city.keys()"
      ],
      "metadata": {
        "colab": {
          "base_uri": "https://localhost:8080/"
        },
        "id": "CoqmkaaNq3DP",
        "outputId": "a0fae00f-d997-438e-9f9f-b91bfca7115f"
      },
      "execution_count": 39,
      "outputs": [
        {
          "output_type": "execute_result",
          "data": {
            "text/plain": [
              "dict_keys(['nagpur', 'mumbai', 'delhi', 'lucknow', 'kanpur', 'pune', 'nashik', 'AQI'])"
            ]
          },
          "metadata": {},
          "execution_count": 39
        }
      ]
    },
    {
      "cell_type": "code",
      "source": [
        "city.values()"
      ],
      "metadata": {
        "colab": {
          "base_uri": "https://localhost:8080/"
        },
        "id": "xc7R7DaDrNf0",
        "outputId": "b3935087-fc64-44a7-8dec-04e5e73f0a7a"
      },
      "execution_count": 40,
      "outputs": [
        {
          "output_type": "execute_result",
          "data": {
            "text/plain": [
              "dict_values([600, 400, 600, 300, 330, 550, 310, True])"
            ]
          },
          "metadata": {},
          "execution_count": 40
        }
      ]
    },
    {
      "cell_type": "code",
      "source": [
        "city.items()"
      ],
      "metadata": {
        "colab": {
          "base_uri": "https://localhost:8080/"
        },
        "id": "oHjW-SE4rPfF",
        "outputId": "adc9f2de-cce8-4124-bf25-e0647f36c710"
      },
      "execution_count": 41,
      "outputs": [
        {
          "output_type": "execute_result",
          "data": {
            "text/plain": [
              "dict_items([('nagpur', 600), ('mumbai', 400), ('delhi', 600), ('lucknow', 300), ('kanpur', 330), ('pune', 550), ('nashik', 310), ('AQI', True)])"
            ]
          },
          "metadata": {},
          "execution_count": 41
        }
      ]
    },
    {
      "cell_type": "code",
      "source": [
        "for k,v in city.items():\n",
        "  print(f\"{k} -- {v}\")"
      ],
      "metadata": {
        "colab": {
          "base_uri": "https://localhost:8080/"
        },
        "id": "QhQSgBSerd5A",
        "outputId": "4df9b74f-7f4f-478a-d145-9cff8439192a"
      },
      "execution_count": 42,
      "outputs": [
        {
          "output_type": "stream",
          "name": "stdout",
          "text": [
            "nagpur -- 600\n",
            "mumbai -- 400\n",
            "delhi -- 600\n",
            "lucknow -- 300\n",
            "kanpur -- 330\n",
            "pune -- 550\n",
            "nashik -- 310\n",
            "AQI -- True\n"
          ]
        }
      ]
    },
    {
      "cell_type": "code",
      "source": [
        "city"
      ],
      "metadata": {
        "colab": {
          "base_uri": "https://localhost:8080/"
        },
        "id": "nhA4ByHkru9i",
        "outputId": "5ca401b7-ef14-4331-bb56-bf37208ac7f1"
      },
      "execution_count": 3,
      "outputs": [
        {
          "output_type": "execute_result",
          "data": {
            "text/plain": [
              "{'nagpur': 370, 'mumbai': 400, 'delhi': 600, 'bengaluru': 440}"
            ]
          },
          "metadata": {},
          "execution_count": 3
        }
      ]
    },
    {
      "cell_type": "code",
      "source": [
        "\"delhi\" in city.keys()"
      ],
      "metadata": {
        "colab": {
          "base_uri": "https://localhost:8080/"
        },
        "id": "cKa1peryAILj",
        "outputId": "cff3e959-a69f-44c5-d150-bc99348ddf12"
      },
      "execution_count": 4,
      "outputs": [
        {
          "output_type": "execute_result",
          "data": {
            "text/plain": [
              "True"
            ]
          },
          "metadata": {},
          "execution_count": 4
        }
      ]
    },
    {
      "cell_type": "code",
      "source": [
        "600 in city.values()"
      ],
      "metadata": {
        "colab": {
          "base_uri": "https://localhost:8080/"
        },
        "id": "82B-MGWVAmCc",
        "outputId": "c9b670c5-c5c7-4339-8e65-0ac72ddde5de"
      },
      "execution_count": 5,
      "outputs": [
        {
          "output_type": "execute_result",
          "data": {
            "text/plain": [
              "True"
            ]
          },
          "metadata": {},
          "execution_count": 5
        }
      ]
    },
    {
      "cell_type": "code",
      "source": [
        "\"chennai\" in city.keys()"
      ],
      "metadata": {
        "colab": {
          "base_uri": "https://localhost:8080/"
        },
        "id": "KnycnxCeAqgR",
        "outputId": "ce38d50a-b2cc-4d98-c3ed-5f6c73f07228"
      },
      "execution_count": 6,
      "outputs": [
        {
          "output_type": "execute_result",
          "data": {
            "text/plain": [
              "False"
            ]
          },
          "metadata": {},
          "execution_count": 6
        }
      ]
    },
    {
      "cell_type": "code",
      "source": [
        "# Mutability -> Dictionaries, Sets, Lists\n",
        "# Immutability -> Tuple\n",
        "\n",
        "# any mutable datatype in python cannot be used as a key"
      ],
      "metadata": {
        "id": "Gbuyz3NiAvOD"
      },
      "execution_count": 7,
      "outputs": []
    },
    {
      "cell_type": "code",
      "source": [
        "# Frequency count of string\n",
        "\n",
        "s = \"this is mukul\"\n",
        ""
      ],
      "metadata": {
        "id": "s2CWsAp8BUgl"
      },
      "execution_count": 1,
      "outputs": []
    },
    {
      "cell_type": "code",
      "source": [
        "set(s)"
      ],
      "metadata": {
        "colab": {
          "base_uri": "https://localhost:8080/"
        },
        "id": "fOAwTS3hXBvT",
        "outputId": "f1ee02f6-cd85-4a75-f8f1-c3a0d29c5dc5"
      },
      "execution_count": 2,
      "outputs": [
        {
          "output_type": "execute_result",
          "data": {
            "text/plain": [
              "{' ', 'h', 'i', 'k', 'l', 'm', 's', 't', 'u'}"
            ]
          },
          "metadata": {},
          "execution_count": 2
        }
      ]
    },
    {
      "cell_type": "code",
      "source": [
        "s.count(\"l\")"
      ],
      "metadata": {
        "colab": {
          "base_uri": "https://localhost:8080/"
        },
        "id": "uoCmfiBWXDQ-",
        "outputId": "2e7db539-0e08-4e42-e502-b6155e08d703"
      },
      "execution_count": 3,
      "outputs": [
        {
          "output_type": "execute_result",
          "data": {
            "text/plain": [
              "1"
            ]
          },
          "metadata": {},
          "execution_count": 3
        }
      ]
    },
    {
      "cell_type": "code",
      "source": [
        "result = {}\n",
        "for i in set(s):\n",
        "  result[i] = s.count(i)"
      ],
      "metadata": {
        "id": "khGY-tdsXLL_"
      },
      "execution_count": 5,
      "outputs": []
    },
    {
      "cell_type": "code",
      "source": [
        "result"
      ],
      "metadata": {
        "colab": {
          "base_uri": "https://localhost:8080/"
        },
        "id": "kucAGguOXPxm",
        "outputId": "1aa947c3-fb96-40b5-f023-9cde0b647da3"
      },
      "execution_count": 6,
      "outputs": [
        {
          "output_type": "execute_result",
          "data": {
            "text/plain": [
              "{'s': 2, 'k': 1, ' ': 2, 'm': 1, 'h': 1, 't': 1, 'u': 2, 'l': 1, 'i': 2}"
            ]
          },
          "metadata": {},
          "execution_count": 6
        }
      ]
    },
    {
      "cell_type": "code",
      "source": [],
      "metadata": {
        "id": "2bMWyCrWXbZk"
      },
      "execution_count": null,
      "outputs": []
    }
  ]
}